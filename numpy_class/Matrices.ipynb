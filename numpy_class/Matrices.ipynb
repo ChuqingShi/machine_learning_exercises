{
 "cells": [
  {
   "cell_type": "code",
   "execution_count": 12,
   "id": "df7fed00-ff77-42fd-8798-1d70f72804db",
   "metadata": {},
   "outputs": [],
   "source": [
    "import numpy as np"
   ]
  },
  {
   "cell_type": "code",
   "execution_count": 5,
   "id": "f7376091-8781-45b9-8da3-400168c5a375",
   "metadata": {},
   "outputs": [
    {
     "data": {
      "text/plain": [
       "[[1, 2], [3, 4]]"
      ]
     },
     "execution_count": 5,
     "metadata": {},
     "output_type": "execute_result"
    }
   ],
   "source": [
    "# Use list of list to represent matrices\n",
    "L = [[1,2],\n",
    "     [3,4]]\n",
    "L"
   ]
  },
  {
   "cell_type": "code",
   "execution_count": 14,
   "id": "b844f0dd-8e3c-48e7-b94c-43e82e5532b9",
   "metadata": {},
   "outputs": [
    {
     "data": {
      "text/plain": [
       "[1, 2]"
      ]
     },
     "execution_count": 14,
     "metadata": {},
     "output_type": "execute_result"
    }
   ],
   "source": [
    "# first row\n",
    "L[0]"
   ]
  },
  {
   "cell_type": "code",
   "execution_count": 9,
   "id": "4e946e97-64bb-4668-9d3d-9802bb567c37",
   "metadata": {},
   "outputs": [
    {
     "data": {
      "text/plain": [
       "2"
      ]
     },
     "execution_count": 9,
     "metadata": {},
     "output_type": "execute_result"
    }
   ],
   "source": [
    "# top-right corner element\n",
    "L[0][1]"
   ]
  },
  {
   "cell_type": "code",
   "execution_count": 10,
   "id": "eef54221-2b30-4732-84b8-35a2e072b73c",
   "metadata": {},
   "outputs": [
    {
     "data": {
      "text/plain": [
       "[2, 4]"
      ]
     },
     "execution_count": 10,
     "metadata": {},
     "output_type": "execute_result"
    }
   ],
   "source": [
    "# second column\n",
    "# list comprehension\n",
    "[row[1] for row in L]"
   ]
  },
  {
   "cell_type": "code",
   "execution_count": 16,
   "id": "3500b327-d1fd-453f-9cba-8b1f4fe23b6e",
   "metadata": {},
   "outputs": [
    {
     "data": {
      "text/plain": [
       "array([[1, 2],\n",
       "       [3, 4]])"
      ]
     },
     "execution_count": 16,
     "metadata": {},
     "output_type": "execute_result"
    }
   ],
   "source": [
    "# Use it to create array\n",
    "A = np.array(L)\n",
    "A"
   ]
  },
  {
   "cell_type": "code",
   "execution_count": 24,
   "id": "ee14dffe-861e-4221-b85f-910fa357de41",
   "metadata": {},
   "outputs": [
    {
     "data": {
      "text/plain": [
       "array([1, 2])"
      ]
     },
     "execution_count": 24,
     "metadata": {},
     "output_type": "execute_result"
    }
   ],
   "source": [
    "# first row\n",
    "A[0]"
   ]
  },
  {
   "cell_type": "code",
   "execution_count": 18,
   "id": "cad0ed54-8420-4c43-a172-fc5255c1937c",
   "metadata": {},
   "outputs": [
    {
     "data": {
      "text/plain": [
       "np.int64(2)"
      ]
     },
     "execution_count": 18,
     "metadata": {},
     "output_type": "execute_result"
    }
   ],
   "source": [
    "# top-right corner element\n",
    "A[0][1]"
   ]
  },
  {
   "cell_type": "code",
   "execution_count": 22,
   "id": "34b61cf2-879a-41d5-b811-1c3ab864e843",
   "metadata": {},
   "outputs": [
    {
     "data": {
      "text/plain": [
       "np.int64(2)"
      ]
     },
     "execution_count": 22,
     "metadata": {},
     "output_type": "execute_result"
    }
   ],
   "source": [
    "# top-right corner element!\n",
    "A[0,1]"
   ]
  },
  {
   "cell_type": "code",
   "execution_count": 25,
   "id": "c98b2749-faa0-4ec4-9c2e-5493e9c3d663",
   "metadata": {},
   "outputs": [
    {
     "data": {
      "text/plain": [
       "array([2, 4])"
      ]
     },
     "execution_count": 25,
     "metadata": {},
     "output_type": "execute_result"
    }
   ],
   "source": [
    "# second column!\n",
    "A[:,1]"
   ]
  },
  {
   "cell_type": "code",
   "execution_count": 42,
   "id": "6a606c6b-cb6e-47d8-a2ab-e4d0f59e6ba0",
   "metadata": {},
   "outputs": [
    {
     "data": {
      "text/plain": [
       "array([[1, 3],\n",
       "       [2, 4]])"
      ]
     },
     "execution_count": 42,
     "metadata": {},
     "output_type": "execute_result"
    }
   ],
   "source": [
    "# transpose\n",
    "A.T"
   ]
  },
  {
   "cell_type": "code",
   "execution_count": 43,
   "id": "e09c77e7-b54b-4269-8d96-88f439ae4c18",
   "metadata": {},
   "outputs": [
    {
     "data": {
      "text/plain": [
       "np.float64(-2.0000000000000004)"
      ]
     },
     "execution_count": 43,
     "metadata": {},
     "output_type": "execute_result"
    }
   ],
   "source": [
    "# determinent\n",
    "np.linalg.det(A) # using determinant of U in LU decomposition, or R in QR decomposition, so not -2, but -2....."
   ]
  },
  {
   "cell_type": "code",
   "execution_count": 44,
   "id": "2b7ce19c-7fe0-4856-9087-c06603638278",
   "metadata": {},
   "outputs": [
    {
     "data": {
      "text/plain": [
       "array([[-2. ,  1. ],\n",
       "       [ 1.5, -0.5]])"
      ]
     },
     "execution_count": 44,
     "metadata": {},
     "output_type": "execute_result"
    }
   ],
   "source": [
    "# inverse\n",
    "np.linalg.inv(A)"
   ]
  },
  {
   "cell_type": "code",
   "execution_count": 36,
   "id": "5d1f2f9b-a8d9-4d5a-89f3-e8cc01feb2de",
   "metadata": {},
   "outputs": [
    {
     "data": {
      "text/plain": [
       "array([[1.00000000e+00, 0.00000000e+00],\n",
       "       [1.11022302e-16, 1.00000000e+00]])"
      ]
     },
     "execution_count": 36,
     "metadata": {},
     "output_type": "execute_result"
    }
   ],
   "source": [
    "np.linalg.inv(A).dot(A)"
   ]
  },
  {
   "cell_type": "code",
   "execution_count": 39,
   "id": "b4ed2533-8d1c-4121-8e18-8e52b733a964",
   "metadata": {},
   "outputs": [
    {
     "data": {
      "text/plain": [
       "np.int64(5)"
      ]
     },
     "execution_count": 39,
     "metadata": {},
     "output_type": "execute_result"
    }
   ],
   "source": [
    "# trace\n",
    "A.trace()"
   ]
  },
  {
   "cell_type": "code",
   "execution_count": 28,
   "id": "f7f54895-3ff5-4946-8696-6f647f7f5ad6",
   "metadata": {},
   "outputs": [
    {
     "data": {
      "text/plain": [
       "array([[ 2.71828183,  7.3890561 ],\n",
       "       [20.08553692, 54.59815003]])"
      ]
     },
     "execution_count": 28,
     "metadata": {},
     "output_type": "execute_result"
    }
   ],
   "source": [
    "# element-wise operation\n",
    "np.exp(A)"
   ]
  },
  {
   "cell_type": "code",
   "execution_count": 45,
   "id": "a3a10516-a1bc-405d-99ed-015a969515e1",
   "metadata": {},
   "outputs": [
    {
     "data": {
      "text/plain": [
       "array([[ 2.71828183,  7.3890561 ],\n",
       "       [20.08553692, 54.59815003]])"
      ]
     },
     "execution_count": 45,
     "metadata": {},
     "output_type": "execute_result"
    }
   ],
   "source": [
    "# Numpy stacks all recognize lists as arrays as an input, so no need to worry passing list!\n",
    "np.exp(L)"
   ]
  },
  {
   "cell_type": "code",
   "execution_count": 30,
   "id": "bfeadae5-e1bf-4a09-ab63-a5d3d83c0ff0",
   "metadata": {},
   "outputs": [
    {
     "data": {
      "text/plain": [
       "array([[1, 2, 3],\n",
       "       [4, 5, 6]])"
      ]
     },
     "execution_count": 30,
     "metadata": {},
     "output_type": "execute_result"
    }
   ],
   "source": [
    "# matrix multiplication\n",
    "B = np.array([[1,2,3],[4,5,6]])\n",
    "B"
   ]
  },
  {
   "cell_type": "code",
   "execution_count": 46,
   "id": "a8f20787-21cf-4757-a22d-85ccf4e60047",
   "metadata": {},
   "outputs": [
    {
     "data": {
      "text/plain": [
       "array([[ 9, 12, 15],\n",
       "       [19, 26, 33]])"
      ]
     },
     "execution_count": 46,
     "metadata": {},
     "output_type": "execute_result"
    }
   ],
   "source": [
    "# matrix multiplication (as a generalization of dot products)!\n",
    "A.dot(B)"
   ]
  },
  {
   "cell_type": "code",
   "execution_count": 47,
   "id": "5349f3ff-700d-4dd2-aff1-19a73b2fba14",
   "metadata": {},
   "outputs": [
    {
     "data": {
      "text/plain": [
       "array([1, 4])"
      ]
     },
     "execution_count": 47,
     "metadata": {},
     "output_type": "execute_result"
    }
   ],
   "source": [
    "# An interesting example of an overloaded function, i.e. multiple functions with the same name but different parameters.\n",
    "np.diag(A) # get the diagnal vector"
   ]
  },
  {
   "cell_type": "code",
   "execution_count": 48,
   "id": "f92d6c9f-5e11-44f3-b21b-f9eb25f24df4",
   "metadata": {},
   "outputs": [
    {
     "data": {
      "text/plain": [
       "array([[1, 0],\n",
       "       [0, 4]])"
      ]
     },
     "execution_count": 48,
     "metadata": {},
     "output_type": "execute_result"
    }
   ],
   "source": [
    "np.diag([1,4]) # get the matrix with it as diagnal vector"
   ]
  },
  {
   "cell_type": "code",
   "execution_count": 51,
   "id": "117aa6dd-c87e-4939-94ba-aadf7eaaab47",
   "metadata": {},
   "outputs": [
    {
     "data": {
      "text/plain": [
       "EigResult(eigenvalues=array([-0.37228132,  5.37228132]), eigenvectors=array([[-0.82456484, -0.41597356],\n",
       "       [ 0.56576746, -0.90937671]]))"
      ]
     },
     "execution_count": 51,
     "metadata": {},
     "output_type": "execute_result"
    }
   ],
   "source": [
    "# eigen valuse and eigen vectors\n",
    "np.linalg.eig(A) #NOTE: eigenvectors are stored as column vectors"
   ]
  },
  {
   "cell_type": "code",
   "execution_count": 52,
   "id": "cf800c60-b775-440b-bc9b-56f57618196a",
   "metadata": {},
   "outputs": [],
   "source": [
    "Lam, V = np.linalg.eig(A)"
   ]
  },
  {
   "cell_type": "code",
   "execution_count": 53,
   "id": "49abcb58-a1e0-46a6-b8ee-2c6758d2cf74",
   "metadata": {},
   "outputs": [
    {
     "data": {
      "text/plain": [
       "array([-0.37228132,  5.37228132])"
      ]
     },
     "execution_count": 53,
     "metadata": {},
     "output_type": "execute_result"
    }
   ],
   "source": [
    "Lam"
   ]
  },
  {
   "cell_type": "code",
   "execution_count": 54,
   "id": "cc860110-dc4e-495c-b42c-1a464e172abe",
   "metadata": {
    "scrolled": true
   },
   "outputs": [
    {
     "data": {
      "text/plain": [
       "array([[-0.82456484, -0.41597356],\n",
       "       [ 0.56576746, -0.90937671]])"
      ]
     },
     "execution_count": 54,
     "metadata": {},
     "output_type": "execute_result"
    }
   ],
   "source": [
    "V"
   ]
  },
  {
   "cell_type": "code",
   "execution_count": 59,
   "id": "65314269-f57d-4963-91e5-2c79b11fba67",
   "metadata": {
    "scrolled": true
   },
   "outputs": [
    {
     "data": {
      "text/plain": [
       "array([-0.82456484,  0.56576746])"
      ]
     },
     "execution_count": 59,
     "metadata": {},
     "output_type": "execute_result"
    }
   ],
   "source": [
    "V[:,0]"
   ]
  },
  {
   "cell_type": "code",
   "execution_count": 57,
   "id": "c528f87b-9d95-404a-9e9e-6ef4bfc7fe5a",
   "metadata": {},
   "outputs": [
    {
     "data": {
      "text/plain": [
       "array([ 0.30697009, -0.21062466])"
      ]
     },
     "execution_count": 57,
     "metadata": {},
     "output_type": "execute_result"
    }
   ],
   "source": [
    "A@V[:,0]"
   ]
  },
  {
   "cell_type": "code",
   "execution_count": 58,
   "id": "95365790-7e93-4e58-a345-f38b75c7f15d",
   "metadata": {},
   "outputs": [
    {
     "data": {
      "text/plain": [
       "array([ 0.30697009, -0.21062466])"
      ]
     },
     "execution_count": 58,
     "metadata": {},
     "output_type": "execute_result"
    }
   ],
   "source": [
    "Lam[0]*V[:,0]"
   ]
  },
  {
   "cell_type": "code",
   "execution_count": 61,
   "id": "5b2b4975-2df7-4d6a-a2f7-25c20bf5f733",
   "metadata": {},
   "outputs": [
    {
     "data": {
      "text/plain": [
       "array([ True, False])"
      ]
     },
     "execution_count": 61,
     "metadata": {},
     "output_type": "execute_result"
    }
   ],
   "source": [
    "Lam[0]*V[:,0] == A@V[:,0] # == works element-wisely for arrays"
   ]
  },
  {
   "cell_type": "code",
   "execution_count": 66,
   "id": "310e14af-4f4f-443d-b656-d213202872bf",
   "metadata": {},
   "outputs": [
    {
     "data": {
      "text/plain": [
       "array([ 0.00000000e+00, -5.55111512e-17])"
      ]
     },
     "execution_count": 66,
     "metadata": {},
     "output_type": "execute_result"
    }
   ],
   "source": [
    "Lam[0]*V[:,0]-A@V[:,0] # sanity check finds arithmetic machine error"
   ]
  },
  {
   "cell_type": "code",
   "execution_count": 67,
   "id": "00d86f13-90a4-4e0e-bdd6-9f831f71365b",
   "metadata": {},
   "outputs": [
    {
     "data": {
      "text/plain": [
       "True"
      ]
     },
     "execution_count": 67,
     "metadata": {},
     "output_type": "execute_result"
    }
   ],
   "source": [
    "# the correct way to compare two arrays equal\n",
    "np.allclose(Lam[0]*V[:,0],A@V[:,0])"
   ]
  },
  {
   "cell_type": "code",
   "execution_count": 68,
   "id": "d1dd2e1d-2c7f-4a66-b373-266d35dba9fa",
   "metadata": {},
   "outputs": [
    {
     "name": "stdout",
     "output_type": "stream",
     "text": [
      "Help on _ArrayFunctionDispatcher in module numpy:\n",
      "\n",
      "allclose(a, b, rtol=1e-05, atol=1e-08, equal_nan=False)\n",
      "    Returns True if two arrays are element-wise equal within a tolerance.\n",
      "\n",
      "    The tolerance values are positive, typically very small numbers.  The\n",
      "    relative difference (`rtol` * abs(`b`)) and the absolute difference\n",
      "    `atol` are added together to compare against the absolute difference\n",
      "    between `a` and `b`.\n",
      "\n",
      "    .. warning:: The default `atol` is not appropriate for comparing numbers\n",
      "                 with magnitudes much smaller than one (see Notes).\n",
      "\n",
      "    NaNs are treated as equal if they are in the same place and if\n",
      "    ``equal_nan=True``.  Infs are treated as equal if they are in the same\n",
      "    place and of the same sign in both arrays.\n",
      "\n",
      "    Parameters\n",
      "    ----------\n",
      "    a, b : array_like\n",
      "        Input arrays to compare.\n",
      "    rtol : array_like\n",
      "        The relative tolerance parameter (see Notes).\n",
      "    atol : array_like\n",
      "        The absolute tolerance parameter (see Notes).\n",
      "    equal_nan : bool\n",
      "        Whether to compare NaN's as equal.  If True, NaN's in `a` will be\n",
      "        considered equal to NaN's in `b` in the output array.\n",
      "\n",
      "    Returns\n",
      "    -------\n",
      "    allclose : bool\n",
      "        Returns True if the two arrays are equal within the given\n",
      "        tolerance; False otherwise.\n",
      "\n",
      "    See Also\n",
      "    --------\n",
      "    isclose, all, any, equal\n",
      "\n",
      "    Notes\n",
      "    -----\n",
      "    If the following equation is element-wise True, then allclose returns\n",
      "    True.::\n",
      "\n",
      "     absolute(a - b) <= (atol + rtol * absolute(b))\n",
      "\n",
      "    The above equation is not symmetric in `a` and `b`, so that\n",
      "    ``allclose(a, b)`` might be different from ``allclose(b, a)`` in\n",
      "    some rare cases.\n",
      "\n",
      "    The default value of `atol` is not appropriate when the reference value\n",
      "    `b` has magnitude smaller than one. For example, it is unlikely that\n",
      "    ``a = 1e-9`` and ``b = 2e-9`` should be considered \"close\", yet\n",
      "    ``allclose(1e-9, 2e-9)`` is ``True`` with default settings. Be sure\n",
      "    to select `atol` for the use case at hand, especially for defining the\n",
      "    threshold below which a non-zero value in `a` will be considered \"close\"\n",
      "    to a very small or zero value in `b`.\n",
      "\n",
      "    The comparison of `a` and `b` uses standard broadcasting, which\n",
      "    means that `a` and `b` need not have the same shape in order for\n",
      "    ``allclose(a, b)`` to evaluate to True.  The same is true for\n",
      "    `equal` but not `array_equal`.\n",
      "\n",
      "    `allclose` is not defined for non-numeric data types.\n",
      "    `bool` is considered a numeric data-type for this purpose.\n",
      "\n",
      "    Examples\n",
      "    --------\n",
      "    >>> import numpy as np\n",
      "    >>> np.allclose([1e10,1e-7], [1.00001e10,1e-8])\n",
      "    False\n",
      "\n",
      "    >>> np.allclose([1e10,1e-8], [1.00001e10,1e-9])\n",
      "    True\n",
      "\n",
      "    >>> np.allclose([1e10,1e-8], [1.0001e10,1e-9])\n",
      "    False\n",
      "\n",
      "    >>> np.allclose([1.0, np.nan], [1.0, np.nan])\n",
      "    False\n",
      "\n",
      "    >>> np.allclose([1.0, np.nan], [1.0, np.nan], equal_nan=True)\n",
      "    True\n",
      "\n"
     ]
    }
   ],
   "source": [
    "help(np.allclose)"
   ]
  },
  {
   "cell_type": "code",
   "execution_count": 69,
   "id": "f2f6c9c0-05f4-4cdb-a5a6-61921fa0e097",
   "metadata": {},
   "outputs": [
    {
     "data": {
      "text/plain": [
       "True"
      ]
     },
     "execution_count": 69,
     "metadata": {},
     "output_type": "execute_result"
    }
   ],
   "source": [
    "# check all eigenvectors at the same time with matrix notation\n",
    "np.allclose(V@np.diag(Lam), A@V)"
   ]
  },
  {
   "cell_type": "code",
   "execution_count": null,
   "id": "f82989f1-4e75-4bb3-a5f6-45a4d5c8adfe",
   "metadata": {},
   "outputs": [],
   "source": [
    "#More precisely, for real symmetric or complex hermitian matrices, use np.linalg.eigh, since it use eigen decompostion directly\n",
    "#This is useful for COV matrix"
   ]
  }
 ],
 "metadata": {
  "kernelspec": {
   "display_name": "Python 3 (ipykernel)",
   "language": "python",
   "name": "python3"
  },
  "language_info": {
   "codemirror_mode": {
    "name": "ipython",
    "version": 3
   },
   "file_extension": ".py",
   "mimetype": "text/x-python",
   "name": "python",
   "nbconvert_exporter": "python",
   "pygments_lexer": "ipython3",
   "version": "3.13.2"
  }
 },
 "nbformat": 4,
 "nbformat_minor": 5
}
