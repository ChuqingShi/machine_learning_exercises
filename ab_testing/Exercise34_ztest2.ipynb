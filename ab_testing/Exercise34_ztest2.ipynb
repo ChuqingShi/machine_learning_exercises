{
 "cells": [
  {
   "cell_type": "code",
   "execution_count": 1,
   "id": "1b62ff82-a05b-4c0c-9858-787e0867db73",
   "metadata": {},
   "outputs": [
    {
     "name": "stdout",
     "output_type": "stream",
     "text": [
      "Requirement already satisfied: kaggle in ./myenv/lib/python3.13/site-packages (1.6.17)\n",
      "Requirement already satisfied: six>=1.10 in ./myenv/lib/python3.13/site-packages (from kaggle) (1.17.0)\n",
      "Requirement already satisfied: certifi>=2023.7.22 in ./myenv/lib/python3.13/site-packages (from kaggle) (2025.1.31)\n",
      "Requirement already satisfied: python-dateutil in ./myenv/lib/python3.13/site-packages (from kaggle) (2.9.0.post0)\n",
      "Requirement already satisfied: requests in ./myenv/lib/python3.13/site-packages (from kaggle) (2.32.3)\n",
      "Requirement already satisfied: tqdm in ./myenv/lib/python3.13/site-packages (from kaggle) (4.67.1)\n",
      "Requirement already satisfied: python-slugify in ./myenv/lib/python3.13/site-packages (from kaggle) (8.0.4)\n",
      "Requirement already satisfied: urllib3 in ./myenv/lib/python3.13/site-packages (from kaggle) (2.3.0)\n",
      "Requirement already satisfied: bleach in ./myenv/lib/python3.13/site-packages (from kaggle) (6.2.0)\n",
      "Requirement already satisfied: webencodings in ./myenv/lib/python3.13/site-packages (from bleach->kaggle) (0.5.1)\n",
      "Requirement already satisfied: text-unidecode>=1.3 in ./myenv/lib/python3.13/site-packages (from python-slugify->kaggle) (1.3)\n",
      "Requirement already satisfied: charset-normalizer<4,>=2 in ./myenv/lib/python3.13/site-packages (from requests->kaggle) (3.4.1)\n",
      "Requirement already satisfied: idna<4,>=2.5 in ./myenv/lib/python3.13/site-packages (from requests->kaggle) (3.10)\n"
     ]
    }
   ],
   "source": [
    "!pip install kaggle"
   ]
  },
  {
   "cell_type": "code",
   "execution_count": 2,
   "id": "347f513c-8ecd-4a5f-b776-faad151a5699",
   "metadata": {},
   "outputs": [],
   "source": [
    "!pip freeze > requirements.txt"
   ]
  },
  {
   "cell_type": "code",
   "execution_count": 2,
   "id": "cf81e388-890c-4b12-97c2-a4d1f77c5681",
   "metadata": {},
   "outputs": [
    {
     "name": "stdout",
     "output_type": "stream",
     "text": [
      "Dataset URL: https://www.kaggle.com/datasets/hesh97/titanicdataset-traincsv\n",
      "License(s): CC0-1.0\n",
      "Downloading titanicdataset-traincsv.zip to /Users/chuqingshi/Downloads/LazyProgrammer/machine_learning_exercises/ab_testing\n",
      "  0%|                                               | 0.00/22.0k [00:00<?, ?B/s]\n",
      "100%|██████████████████████████████████████| 22.0k/22.0k [00:00<00:00, 9.91MB/s]\n"
     ]
    }
   ],
   "source": [
    "import kaggle\n",
    "!kaggle datasets download hesh97/titanicdataset-traincsv"
   ]
  },
  {
   "cell_type": "code",
   "execution_count": 5,
   "id": "2e0e4c5c-9b7a-4469-80dd-950b688a495b",
   "metadata": {},
   "outputs": [],
   "source": [
    "# Unzip the downloaded file\n",
    "import zipfile\n",
    "import os\n",
    "\n",
    "dataset_path = \"titanicdataset-traincsv.zip\"\n",
    "with zipfile.ZipFile(dataset_path, \"r\") as zip_ref:\n",
    "    zip_ref.extractall(\"dataset_exercise\")  # Extract files to a folder"
   ]
  },
  {
   "cell_type": "code",
   "execution_count": 12,
   "id": "4d6f58d9-2c56-4c2e-a2bc-f5dca4878d3d",
   "metadata": {},
   "outputs": [],
   "source": [
    "import pandas as pd\n",
    "import matplotlib.pyplot as plt\n",
    "import seaborn as sns #density plot"
   ]
  },
  {
   "cell_type": "code",
   "execution_count": 9,
   "id": "9d928942-0d4a-446c-814f-08637fd56a4d",
   "metadata": {},
   "outputs": [
    {
     "name": "stdout",
     "output_type": "stream",
     "text": [
      "/usr/local/bin/bash: line 1: seaborn: command not found\n"
     ]
    }
   ],
   "source": [
    "!seaborn --version"
   ]
  },
  {
   "cell_type": "code",
   "execution_count": 10,
   "id": "fdd51c61-e19b-4c64-8841-26465ab569d8",
   "metadata": {},
   "outputs": [
    {
     "name": "stdout",
     "output_type": "stream",
     "text": [
      "Collecting seaborn\n",
      "  Downloading seaborn-0.13.2-py3-none-any.whl.metadata (5.4 kB)\n",
      "Requirement already satisfied: numpy!=1.24.0,>=1.20 in ./myenv/lib/python3.13/site-packages (from seaborn) (2.2.3)\n",
      "Requirement already satisfied: pandas>=1.2 in ./myenv/lib/python3.13/site-packages (from seaborn) (2.2.3)\n",
      "Requirement already satisfied: matplotlib!=3.6.1,>=3.4 in ./myenv/lib/python3.13/site-packages (from seaborn) (3.10.0)\n",
      "Requirement already satisfied: contourpy>=1.0.1 in ./myenv/lib/python3.13/site-packages (from matplotlib!=3.6.1,>=3.4->seaborn) (1.3.1)\n",
      "Requirement already satisfied: cycler>=0.10 in ./myenv/lib/python3.13/site-packages (from matplotlib!=3.6.1,>=3.4->seaborn) (0.12.1)\n",
      "Requirement already satisfied: fonttools>=4.22.0 in ./myenv/lib/python3.13/site-packages (from matplotlib!=3.6.1,>=3.4->seaborn) (4.56.0)\n",
      "Requirement already satisfied: kiwisolver>=1.3.1 in ./myenv/lib/python3.13/site-packages (from matplotlib!=3.6.1,>=3.4->seaborn) (1.4.8)\n",
      "Requirement already satisfied: packaging>=20.0 in ./myenv/lib/python3.13/site-packages (from matplotlib!=3.6.1,>=3.4->seaborn) (24.2)\n",
      "Requirement already satisfied: pillow>=8 in ./myenv/lib/python3.13/site-packages (from matplotlib!=3.6.1,>=3.4->seaborn) (11.1.0)\n",
      "Requirement already satisfied: pyparsing>=2.3.1 in ./myenv/lib/python3.13/site-packages (from matplotlib!=3.6.1,>=3.4->seaborn) (3.2.1)\n",
      "Requirement already satisfied: python-dateutil>=2.7 in ./myenv/lib/python3.13/site-packages (from matplotlib!=3.6.1,>=3.4->seaborn) (2.9.0.post0)\n",
      "Requirement already satisfied: pytz>=2020.1 in ./myenv/lib/python3.13/site-packages (from pandas>=1.2->seaborn) (2025.1)\n",
      "Requirement already satisfied: tzdata>=2022.7 in ./myenv/lib/python3.13/site-packages (from pandas>=1.2->seaborn) (2025.1)\n",
      "Requirement already satisfied: six>=1.5 in ./myenv/lib/python3.13/site-packages (from python-dateutil>=2.7->matplotlib!=3.6.1,>=3.4->seaborn) (1.17.0)\n",
      "Downloading seaborn-0.13.2-py3-none-any.whl (294 kB)\n",
      "Installing collected packages: seaborn\n",
      "Successfully installed seaborn-0.13.2\n"
     ]
    }
   ],
   "source": [
    "!pip install seaborn"
   ]
  },
  {
   "cell_type": "code",
   "execution_count": 11,
   "id": "891b5ca9-b6dc-4bfc-b2ac-9cdffaf674e2",
   "metadata": {},
   "outputs": [],
   "source": [
    "!pip freeze > requirements.txt"
   ]
  },
  {
   "cell_type": "code",
   "execution_count": 16,
   "id": "265f88ff-1db9-4584-bfbf-0dac41a5a9c6",
   "metadata": {},
   "outputs": [
    {
     "name": "stdout",
     "output_type": "stream",
     "text": [
      "Exercise16_probability_review.ipynb  \u001b[31mepsilon_greedy.py\u001b[m\u001b[m\n",
      "Exercise25_confidence_interval.ipynb \u001b[31mepsilon_greedy_starter.py\u001b[m\u001b[m\n",
      "Exercise33_ztest.ipynb               ex_chisq.py\n",
      "Exercise34_ztest2.ipynb              ex_ttest.py\n",
      "advertisement_clicks.csv             extra_reading.txt\n",
      "bayesian_bandit.py                   \u001b[34mmyenv\u001b[m\u001b[m\n",
      "bayesian_normal.py                   optimistic.py\n",
      "bayesian_starter.py                  optimistic_starter.py\n",
      "cdfs_and_percentiles.py              requirements.txt\n",
      "chisquare.py                         server_solution.py\n",
      "ci_comparison.py                     server_starter.py\n",
      "client.py                            titanicdataset-traincsv.zip\n",
      "\u001b[31mcomparing_epsilons.py\u001b[m\u001b[m                train.csv\n",
      "convergence.py                       ttest.py\n",
      "\u001b[34mdataset\u001b[m\u001b[m                              ucb1.py\n",
      "\u001b[34mdataset_exercise\u001b[m\u001b[m                     ucb1_starter.py\n",
      "demo.py\n"
     ]
    }
   ],
   "source": [
    "!ls"
   ]
  },
  {
   "cell_type": "code",
   "execution_count": 18,
   "id": "f6502071-611a-4f5c-a647-edd1e304721f",
   "metadata": {},
   "outputs": [
    {
     "name": "stdout",
     "output_type": "stream",
     "text": [
      "train.csv\n"
     ]
    }
   ],
   "source": [
    "!ls dataset_exercise"
   ]
  },
  {
   "cell_type": "code",
   "execution_count": 19,
   "id": "a7d10c14-9b46-4c12-b5ab-ab297d951f6f",
   "metadata": {},
   "outputs": [],
   "source": [
    "df = pd.read_csv(\"dataset_exercise/train.csv\")"
   ]
  },
  {
   "cell_type": "code",
   "execution_count": 29,
   "id": "fda0dcfa-07b0-4fac-aceb-e5273307e192",
   "metadata": {},
   "outputs": [
    {
     "data": {
      "text/html": [
       "<div>\n",
       "<style scoped>\n",
       "    .dataframe tbody tr th:only-of-type {\n",
       "        vertical-align: middle;\n",
       "    }\n",
       "\n",
       "    .dataframe tbody tr th {\n",
       "        vertical-align: top;\n",
       "    }\n",
       "\n",
       "    .dataframe thead th {\n",
       "        text-align: right;\n",
       "    }\n",
       "</style>\n",
       "<table border=\"1\" class=\"dataframe\">\n",
       "  <thead>\n",
       "    <tr style=\"text-align: right;\">\n",
       "      <th></th>\n",
       "      <th>PassengerId</th>\n",
       "      <th>Survived</th>\n",
       "      <th>Pclass</th>\n",
       "      <th>Name</th>\n",
       "      <th>Sex</th>\n",
       "      <th>Age</th>\n",
       "      <th>SibSp</th>\n",
       "      <th>Parch</th>\n",
       "      <th>Ticket</th>\n",
       "      <th>Fare</th>\n",
       "      <th>Cabin</th>\n",
       "      <th>Embarked</th>\n",
       "    </tr>\n",
       "  </thead>\n",
       "  <tbody>\n",
       "    <tr>\n",
       "      <th>0</th>\n",
       "      <td>1</td>\n",
       "      <td>0</td>\n",
       "      <td>3</td>\n",
       "      <td>Braund, Mr. Owen Harris</td>\n",
       "      <td>male</td>\n",
       "      <td>22.0</td>\n",
       "      <td>1</td>\n",
       "      <td>0</td>\n",
       "      <td>A/5 21171</td>\n",
       "      <td>7.2500</td>\n",
       "      <td>NaN</td>\n",
       "      <td>S</td>\n",
       "    </tr>\n",
       "    <tr>\n",
       "      <th>1</th>\n",
       "      <td>2</td>\n",
       "      <td>1</td>\n",
       "      <td>1</td>\n",
       "      <td>Cumings, Mrs. John Bradley (Florence Briggs Th...</td>\n",
       "      <td>female</td>\n",
       "      <td>38.0</td>\n",
       "      <td>1</td>\n",
       "      <td>0</td>\n",
       "      <td>PC 17599</td>\n",
       "      <td>71.2833</td>\n",
       "      <td>C85</td>\n",
       "      <td>C</td>\n",
       "    </tr>\n",
       "    <tr>\n",
       "      <th>2</th>\n",
       "      <td>3</td>\n",
       "      <td>1</td>\n",
       "      <td>3</td>\n",
       "      <td>Heikkinen, Miss. Laina</td>\n",
       "      <td>female</td>\n",
       "      <td>26.0</td>\n",
       "      <td>0</td>\n",
       "      <td>0</td>\n",
       "      <td>STON/O2. 3101282</td>\n",
       "      <td>7.9250</td>\n",
       "      <td>NaN</td>\n",
       "      <td>S</td>\n",
       "    </tr>\n",
       "    <tr>\n",
       "      <th>3</th>\n",
       "      <td>4</td>\n",
       "      <td>1</td>\n",
       "      <td>1</td>\n",
       "      <td>Futrelle, Mrs. Jacques Heath (Lily May Peel)</td>\n",
       "      <td>female</td>\n",
       "      <td>35.0</td>\n",
       "      <td>1</td>\n",
       "      <td>0</td>\n",
       "      <td>113803</td>\n",
       "      <td>53.1000</td>\n",
       "      <td>C123</td>\n",
       "      <td>S</td>\n",
       "    </tr>\n",
       "    <tr>\n",
       "      <th>4</th>\n",
       "      <td>5</td>\n",
       "      <td>0</td>\n",
       "      <td>3</td>\n",
       "      <td>Allen, Mr. William Henry</td>\n",
       "      <td>male</td>\n",
       "      <td>35.0</td>\n",
       "      <td>0</td>\n",
       "      <td>0</td>\n",
       "      <td>373450</td>\n",
       "      <td>8.0500</td>\n",
       "      <td>NaN</td>\n",
       "      <td>S</td>\n",
       "    </tr>\n",
       "  </tbody>\n",
       "</table>\n",
       "</div>"
      ],
      "text/plain": [
       "   PassengerId  Survived  Pclass  \\\n",
       "0            1         0       3   \n",
       "1            2         1       1   \n",
       "2            3         1       3   \n",
       "3            4         1       1   \n",
       "4            5         0       3   \n",
       "\n",
       "                                                Name     Sex   Age  SibSp  \\\n",
       "0                            Braund, Mr. Owen Harris    male  22.0      1   \n",
       "1  Cumings, Mrs. John Bradley (Florence Briggs Th...  female  38.0      1   \n",
       "2                             Heikkinen, Miss. Laina  female  26.0      0   \n",
       "3       Futrelle, Mrs. Jacques Heath (Lily May Peel)  female  35.0      1   \n",
       "4                           Allen, Mr. William Henry    male  35.0      0   \n",
       "\n",
       "   Parch            Ticket     Fare Cabin Embarked  \n",
       "0      0         A/5 21171   7.2500   NaN        S  \n",
       "1      0          PC 17599  71.2833   C85        C  \n",
       "2      0  STON/O2. 3101282   7.9250   NaN        S  \n",
       "3      0            113803  53.1000  C123        S  \n",
       "4      0            373450   8.0500   NaN        S  "
      ]
     },
     "execution_count": 29,
     "metadata": {},
     "output_type": "execute_result"
    }
   ],
   "source": [
    "df.head()"
   ]
  },
  {
   "cell_type": "code",
   "execution_count": 31,
   "id": "7cd9c4f1-229e-4612-9776-095c3e9286c9",
   "metadata": {},
   "outputs": [],
   "source": [
    "# Adjust display to show all columns\n",
    "pd.set_option('display.max_columns', None)\n",
    "\n",
    "#...\n",
    "\n",
    "# Reset display option to default\n",
    "pd.reset_option('display.max_columns')"
   ]
  },
  {
   "cell_type": "code",
   "execution_count": null,
   "id": "e6c0d9cb-b310-4724-8327-399a0562ecf3",
   "metadata": {},
   "outputs": [],
   "source": []
  }
 ],
 "metadata": {
  "kernelspec": {
   "display_name": "Python 3 (ipykernel)",
   "language": "python",
   "name": "python3"
  },
  "language_info": {
   "codemirror_mode": {
    "name": "ipython",
    "version": 3
   },
   "file_extension": ".py",
   "mimetype": "text/x-python",
   "name": "python",
   "nbconvert_exporter": "python",
   "pygments_lexer": "ipython3",
   "version": "3.13.2"
  }
 },
 "nbformat": 4,
 "nbformat_minor": 5
}
