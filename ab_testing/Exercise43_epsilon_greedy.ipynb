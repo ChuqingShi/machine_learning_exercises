{
 "cells": [
  {
   "cell_type": "code",
   "execution_count": 1,
   "id": "7297b539-366b-4523-ac95-693bd771c82b",
   "metadata": {},
   "outputs": [],
   "source": [
    "import matplotlib.pyplot as plt\n",
    "import numpy as np"
   ]
  },
  {
   "cell_type": "code",
   "execution_count": 2,
   "id": "978ad4ca-7cb0-4989-8652-f1553c6bb88c",
   "metadata": {},
   "outputs": [],
   "source": [
    "NUM_TRIALS = 10000\n",
    "EPS = 0.1\n",
    "BANDIT_PROBABILITIES = [0.2, 0.5, 0.75]"
   ]
  },
  {
   "cell_type": "code",
   "execution_count": 3,
   "id": "9fd51ef5-0393-4d1c-a27c-9a70689e4969",
   "metadata": {},
   "outputs": [],
   "source": [
    "class BanditArm:\n",
    "  def __init__(self, p):\n",
    "    # p: the win rate\n",
    "    self.p = p\n",
    "    self.p_estimate = 0.\n",
    "    self.N = 0. # num samples collected so far\n",
    "\n",
    "  def pull(self):\n",
    "    # draw a 1 with probability p\n",
    "    return np.random.random() < self.p\n",
    "\n",
    "  def update(self, x):\n",
    "    self.N += 1.\n",
    "    self.p_estimate = ((self.N - 1)*self.p_estimate + x) / self.N"
   ]
  },
  {
   "cell_type": "code",
   "execution_count": 4,
   "id": "ccaa4b56-04ac-44cc-8ca9-ad2d9f442923",
   "metadata": {},
   "outputs": [],
   "source": [
    "def choose_random_argmax(a):\n",
    "  idx = np.argwhere(np.amax(a) == a).flatten()\n",
    "  return np.random.choice(idx)"
   ]
  },
  {
   "cell_type": "code",
   "execution_count": 5,
   "id": "98158666-fd93-46b1-a888-54653ead4b64",
   "metadata": {},
   "outputs": [
    {
     "name": "stdout",
     "output_type": "stream",
     "text": [
      "Help on _ArrayFunctionDispatcher in module numpy:\n",
      "\n",
      "amax(\n",
      "    a,\n",
      "    axis=None,\n",
      "    out=None,\n",
      "    keepdims=<no value>,\n",
      "    initial=<no value>,\n",
      "    where=<no value>\n",
      ")\n",
      "    Return the maximum of an array or maximum along an axis.\n",
      "\n",
      "    `amax` is an alias of `~numpy.max`.\n",
      "\n",
      "    See Also\n",
      "    --------\n",
      "    max : alias of this function\n",
      "    ndarray.max : equivalent method\n",
      "\n"
     ]
    }
   ],
   "source": [
    "help(np.amax)"
   ]
  },
  {
   "cell_type": "code",
   "execution_count": 13,
   "id": "f046b357-b708-4ba7-87a4-c7768bef66d3",
   "metadata": {},
   "outputs": [
    {
     "data": {
      "text/plain": [
       "False"
      ]
     },
     "execution_count": 13,
     "metadata": {},
     "output_type": "execute_result"
    }
   ],
   "source": [
    "a = [1,2,3]\n",
    "max(a) == a"
   ]
  },
  {
   "cell_type": "code",
   "execution_count": 18,
   "id": "17a837a1-d468-4530-988e-eb49bccfdf5a",
   "metadata": {},
   "outputs": [
    {
     "data": {
      "text/plain": [
       "array([False, False,  True])"
      ]
     },
     "execution_count": 18,
     "metadata": {},
     "output_type": "execute_result"
    }
   ],
   "source": [
    "np.max(a) == a"
   ]
  },
  {
   "cell_type": "code",
   "execution_count": 7,
   "id": "e63dddd1-7f63-4099-b306-f16895117cdc",
   "metadata": {},
   "outputs": [
    {
     "name": "stdout",
     "output_type": "stream",
     "text": [
      "Help on _ArrayFunctionDispatcher in module numpy:\n",
      "\n",
      "argwhere(a)\n",
      "    Find the indices of array elements that are non-zero, grouped by element.\n",
      "\n",
      "    Parameters\n",
      "    ----------\n",
      "    a : array_like\n",
      "        Input data.\n",
      "\n",
      "    Returns\n",
      "    -------\n",
      "    index_array : (N, a.ndim) ndarray\n",
      "        Indices of elements that are non-zero. Indices are grouped by element.\n",
      "        This array will have shape ``(N, a.ndim)`` where ``N`` is the number of\n",
      "        non-zero items.\n",
      "\n",
      "    See Also\n",
      "    --------\n",
      "    where, nonzero\n",
      "\n",
      "    Notes\n",
      "    -----\n",
      "    ``np.argwhere(a)`` is almost the same as ``np.transpose(np.nonzero(a))``,\n",
      "    but produces a result of the correct shape for a 0D array.\n",
      "\n",
      "    The output of ``argwhere`` is not suitable for indexing arrays.\n",
      "    For this purpose use ``nonzero(a)`` instead.\n",
      "\n",
      "    Examples\n",
      "    --------\n",
      "    >>> import numpy as np\n",
      "    >>> x = np.arange(6).reshape(2,3)\n",
      "    >>> x\n",
      "    array([[0, 1, 2],\n",
      "           [3, 4, 5]])\n",
      "    >>> np.argwhere(x>1)\n",
      "    array([[0, 2],\n",
      "           [1, 0],\n",
      "           [1, 1],\n",
      "           [1, 2]])\n",
      "\n"
     ]
    }
   ],
   "source": [
    "help(np.argwhere)"
   ]
  },
  {
   "cell_type": "code",
   "execution_count": 19,
   "id": "51cd5828-659b-4b2f-9ae9-491b4df1eee1",
   "metadata": {},
   "outputs": [
    {
     "data": {
      "text/plain": [
       "array([[2]])"
      ]
     },
     "execution_count": 19,
     "metadata": {},
     "output_type": "execute_result"
    }
   ],
   "source": [
    "np.argwhere(np.max(a) == a)"
   ]
  },
  {
   "cell_type": "code",
   "execution_count": 20,
   "id": "c58e7198-e5fa-4c53-bf2d-493cad908eb1",
   "metadata": {},
   "outputs": [
    {
     "data": {
      "text/plain": [
       "(1, 1)"
      ]
     },
     "execution_count": 20,
     "metadata": {},
     "output_type": "execute_result"
    }
   ],
   "source": [
    "np.argwhere(np.max(a) == a).shape"
   ]
  },
  {
   "cell_type": "code",
   "execution_count": 26,
   "id": "93832e11-26ed-4319-ba22-322800c5db25",
   "metadata": {},
   "outputs": [
    {
     "data": {
      "text/plain": [
       "array([[2]])"
      ]
     },
     "execution_count": 26,
     "metadata": {},
     "output_type": "execute_result"
    }
   ],
   "source": [
    "A = np.argwhere(np.max(a) == a)\n",
    "A"
   ]
  },
  {
   "cell_type": "code",
   "execution_count": null,
   "id": "4465c781-6d2b-4da2-95a8-0cf6117e9378",
   "metadata": {},
   "outputs": [],
   "source": []
  },
  {
   "cell_type": "code",
   "execution_count": 28,
   "id": "cb3e7332-ddd8-401f-a7df-262251413291",
   "metadata": {},
   "outputs": [
    {
     "ename": "AttributeError",
     "evalue": "module 'numpy' has no attribute 'flatten'",
     "output_type": "error",
     "traceback": [
      "\u001b[0;31m---------------------------------------------------------------------------\u001b[0m",
      "\u001b[0;31mAttributeError\u001b[0m                            Traceback (most recent call last)",
      "Cell \u001b[0;32mIn[28], line 1\u001b[0m\n\u001b[0;32m----> 1\u001b[0m help(\u001b[43mnp\u001b[49m\u001b[38;5;241;43m.\u001b[39;49m\u001b[43mflatten\u001b[49m)\n",
      "File \u001b[0;32m~/Downloads/LazyProgrammer/machine_learning_exercises/ab_testing/myenv/lib/python3.13/site-packages/numpy/__init__.py:414\u001b[0m, in \u001b[0;36m__getattr__\u001b[0;34m(attr)\u001b[0m\n\u001b[1;32m    411\u001b[0m     \u001b[38;5;28;01mimport\u001b[39;00m\u001b[38;5;250m \u001b[39m\u001b[38;5;21;01mnumpy\u001b[39;00m\u001b[38;5;21;01m.\u001b[39;00m\u001b[38;5;21;01mchar\u001b[39;00m\u001b[38;5;250m \u001b[39m\u001b[38;5;28;01mas\u001b[39;00m\u001b[38;5;250m \u001b[39m\u001b[38;5;21;01mchar\u001b[39;00m\n\u001b[1;32m    412\u001b[0m     \u001b[38;5;28;01mreturn\u001b[39;00m char\u001b[38;5;241m.\u001b[39mchararray\n\u001b[0;32m--> 414\u001b[0m \u001b[38;5;28;01mraise\u001b[39;00m \u001b[38;5;167;01mAttributeError\u001b[39;00m(\u001b[38;5;124m\"\u001b[39m\u001b[38;5;124mmodule \u001b[39m\u001b[38;5;132;01m{!r}\u001b[39;00m\u001b[38;5;124m has no attribute \u001b[39m\u001b[38;5;124m\"\u001b[39m\n\u001b[1;32m    415\u001b[0m                      \u001b[38;5;124m\"\u001b[39m\u001b[38;5;132;01m{!r}\u001b[39;00m\u001b[38;5;124m\"\u001b[39m\u001b[38;5;241m.\u001b[39mformat(\u001b[38;5;18m__name__\u001b[39m, attr))\n",
      "\u001b[0;31mAttributeError\u001b[0m: module 'numpy' has no attribute 'flatten'"
     ]
    }
   ],
   "source": [
    "help(np.flatten)"
   ]
  },
  {
   "cell_type": "code",
   "execution_count": 27,
   "id": "79d97aa6-8c9f-4407-bdcc-c2ae6ee1a45a",
   "metadata": {},
   "outputs": [
    {
     "name": "stdout",
     "output_type": "stream",
     "text": [
      "Help on built-in function flatten:\n",
      "\n",
      "flatten(...) method of numpy.ndarray instance\n",
      "    a.flatten(order='C')\n",
      "\n",
      "    Return a copy of the array collapsed into one dimension.\n",
      "\n",
      "    Parameters\n",
      "    ----------\n",
      "    order : {'C', 'F', 'A', 'K'}, optional\n",
      "        'C' means to flatten in row-major (C-style) order.\n",
      "        'F' means to flatten in column-major (Fortran-\n",
      "        style) order. 'A' means to flatten in column-major\n",
      "        order if `a` is Fortran *contiguous* in memory,\n",
      "        row-major order otherwise. 'K' means to flatten\n",
      "        `a` in the order the elements occur in memory.\n",
      "        The default is 'C'.\n",
      "\n",
      "    Returns\n",
      "    -------\n",
      "    y : ndarray\n",
      "        A copy of the input array, flattened to one dimension.\n",
      "\n",
      "    See Also\n",
      "    --------\n",
      "    ravel : Return a flattened array.\n",
      "    flat : A 1-D flat iterator over the array.\n",
      "\n",
      "    Examples\n",
      "    --------\n",
      "    >>> import numpy as np\n",
      "    >>> a = np.array([[1,2], [3,4]])\n",
      "    >>> a.flatten()\n",
      "    array([1, 2, 3, 4])\n",
      "    >>> a.flatten('F')\n",
      "    array([1, 3, 2, 4])\n",
      "\n"
     ]
    }
   ],
   "source": [
    "help(A.flatten)"
   ]
  },
  {
   "cell_type": "code",
   "execution_count": 29,
   "id": "6806bc9d-d06f-428c-89af-b35eb284c068",
   "metadata": {},
   "outputs": [
    {
     "name": "stdout",
     "output_type": "stream",
     "text": [
      "Help on method choice in module numpy.random:\n",
      "\n",
      "choice(a, size=None, replace=True, p=None) method of numpy.random.mtrand.RandomState instance\n",
      "    choice(a, size=None, replace=True, p=None)\n",
      "\n",
      "    Generates a random sample from a given 1-D array\n",
      "\n",
      "    .. note::\n",
      "        New code should use the `~numpy.random.Generator.choice`\n",
      "        method of a `~numpy.random.Generator` instance instead;\n",
      "        please see the :ref:`random-quick-start`.\n",
      "\n",
      "    .. warning::\n",
      "        This function uses the C-long dtype, which is 32bit on windows\n",
      "        and otherwise 64bit on 64bit platforms (and 32bit on 32bit ones).\n",
      "        Since NumPy 2.0, NumPy's default integer is 32bit on 32bit platforms\n",
      "        and 64bit on 64bit platforms.\n",
      "\n",
      "\n",
      "    Parameters\n",
      "    ----------\n",
      "    a : 1-D array-like or int\n",
      "        If an ndarray, a random sample is generated from its elements.\n",
      "        If an int, the random sample is generated as if it were ``np.arange(a)``\n",
      "    size : int or tuple of ints, optional\n",
      "        Output shape.  If the given shape is, e.g., ``(m, n, k)``, then\n",
      "        ``m * n * k`` samples are drawn.  Default is None, in which case a\n",
      "        single value is returned.\n",
      "    replace : boolean, optional\n",
      "        Whether the sample is with or without replacement. Default is True,\n",
      "        meaning that a value of ``a`` can be selected multiple times.\n",
      "    p : 1-D array-like, optional\n",
      "        The probabilities associated with each entry in a.\n",
      "        If not given, the sample assumes a uniform distribution over all\n",
      "        entries in ``a``.\n",
      "\n",
      "    Returns\n",
      "    -------\n",
      "    samples : single item or ndarray\n",
      "        The generated random samples\n",
      "\n",
      "    Raises\n",
      "    ------\n",
      "    ValueError\n",
      "        If a is an int and less than zero, if a or p are not 1-dimensional,\n",
      "        if a is an array-like of size 0, if p is not a vector of\n",
      "        probabilities, if a and p have different lengths, or if\n",
      "        replace=False and the sample size is greater than the population\n",
      "        size\n",
      "\n",
      "    See Also\n",
      "    --------\n",
      "    randint, shuffle, permutation\n",
      "    random.Generator.choice: which should be used in new code\n",
      "\n",
      "    Notes\n",
      "    -----\n",
      "    Setting user-specified probabilities through ``p`` uses a more general but less\n",
      "    efficient sampler than the default. The general sampler produces a different sample\n",
      "    than the optimized sampler even if each element of ``p`` is 1 / len(a).\n",
      "\n",
      "    Sampling random rows from a 2-D array is not possible with this function,\n",
      "    but is possible with `Generator.choice` through its ``axis`` keyword.\n",
      "\n",
      "    Examples\n",
      "    --------\n",
      "    Generate a uniform random sample from np.arange(5) of size 3:\n",
      "\n",
      "    >>> np.random.choice(5, 3)\n",
      "    array([0, 3, 4]) # random\n",
      "    >>> #This is equivalent to np.random.randint(0,5,3)\n",
      "\n",
      "    Generate a non-uniform random sample from np.arange(5) of size 3:\n",
      "\n",
      "    >>> np.random.choice(5, 3, p=[0.1, 0, 0.3, 0.6, 0])\n",
      "    array([3, 3, 0]) # random\n",
      "\n",
      "    Generate a uniform random sample from np.arange(5) of size 3 without\n",
      "    replacement:\n",
      "\n",
      "    >>> np.random.choice(5, 3, replace=False)\n",
      "    array([3,1,0]) # random\n",
      "    >>> #This is equivalent to np.random.permutation(np.arange(5))[:3]\n",
      "\n",
      "    Generate a non-uniform random sample from np.arange(5) of size\n",
      "    3 without replacement:\n",
      "\n",
      "    >>> np.random.choice(5, 3, replace=False, p=[0.1, 0, 0.3, 0.6, 0])\n",
      "    array([2, 3, 0]) # random\n",
      "\n",
      "    Any of the above can be repeated with an arbitrary array-like\n",
      "    instead of just integers. For instance:\n",
      "\n",
      "    >>> aa_milne_arr = ['pooh', 'rabbit', 'piglet', 'Christopher']\n",
      "    >>> np.random.choice(aa_milne_arr, 5, p=[0.5, 0.1, 0.1, 0.3])\n",
      "    array(['pooh', 'pooh', 'pooh', 'Christopher', 'piglet'], # random\n",
      "          dtype='<U11')\n",
      "\n"
     ]
    }
   ],
   "source": [
    "help(np.random.choice)"
   ]
  },
  {
   "cell_type": "code",
   "execution_count": 42,
   "id": "0ffa4067-0346-42a8-84bf-4fc4f0db4daa",
   "metadata": {},
   "outputs": [],
   "source": [
    "def epsilon(N):\n",
    "    return 10 * EPS / N"
   ]
  },
  {
   "cell_type": "code",
   "execution_count": 45,
   "id": "5b28717f-022c-4eda-8a81-2baad2f339c2",
   "metadata": {},
   "outputs": [],
   "source": [
    "def experiment(epsilon=None):\n",
    "  bandits = [BanditArm(p) for p in BANDIT_PROBABILITIES]\n",
    "\n",
    "  rewards = np.zeros(NUM_TRIALS)\n",
    "  num_times_explored = 0\n",
    "  num_times_exploited = 0\n",
    "  num_optimal = 0\n",
    "  optimal_j = np.argmax([b.p for b in bandits])\n",
    "  print(\"optimal j:\", optimal_j)\n",
    "\n",
    "  for i in range(NUM_TRIALS):\n",
    "\n",
    "    # use epsilon-greedy to select the next bandit\n",
    "    if epsilon is None:\n",
    "        eps = EPS\n",
    "    else:\n",
    "        eps = epsilon(i+1)\n",
    "    if np.random.random() < eps:\n",
    "      num_times_explored += 1\n",
    "      j = np.random.randint(len(bandits))\n",
    "    else:\n",
    "      num_times_exploited += 1\n",
    "      j = choose_random_argmax([b.p_estimate for b in bandits])\n",
    "\n",
    "    if j == optimal_j:\n",
    "      num_optimal += 1\n",
    "\n",
    "    # pull the arm for the bandit with the largest sample\n",
    "    x = bandits[j].pull()\n",
    "\n",
    "    # update rewards log\n",
    "    rewards[i] = x\n",
    "\n",
    "    # update the distribution for the bandit whose arm we just pulled\n",
    "    bandits[j].update(x)\n",
    "\n",
    "    \n",
    "\n",
    "  # print mean estimates for each bandit\n",
    "  for b in bandits:\n",
    "    print(\"mean estimate:\", b.p_estimate)\n",
    "\n",
    "  # print total reward\n",
    "  print(\"total reward earned:\", rewards.sum())\n",
    "  print(\"overall win rate:\", rewards.sum() / NUM_TRIALS)\n",
    "  print(\"num_times_explored:\", num_times_explored)\n",
    "  print(\"num_times_exploited:\", num_times_exploited)\n",
    "  print(\"num times selected optimal bandit:\", num_optimal)\n",
    "\n",
    "  # plot the results\n",
    "  cumulative_rewards = np.cumsum(rewards)\n",
    "  win_rates = cumulative_rewards / (np.arange(NUM_TRIALS) + 1)\n",
    "  plt.plot(win_rates)\n",
    "  plt.plot(np.ones(NUM_TRIALS)*np.max(BANDIT_PROBABILITIES))\n",
    "  plt.show()"
   ]
  },
  {
   "cell_type": "code",
   "execution_count": null,
   "id": "e721b112-01ef-47b3-947f-7aca52f1fa16",
   "metadata": {},
   "outputs": [],
   "source": []
  },
  {
   "cell_type": "code",
   "execution_count": 46,
   "id": "416120ac-af8e-45a8-b2fa-61e5ffb493cc",
   "metadata": {},
   "outputs": [
    {
     "name": "stdout",
     "output_type": "stream",
     "text": [
      "optimal j: 2\n",
      "mean estimate: 0.19195046439628483\n",
      "mean estimate: 0.5000000000000001\n",
      "mean estimate: 0.751794322442421\n",
      "total reward earned: 7251.0\n",
      "overall win rate: 0.7251\n",
      "num_times_explored: 954\n",
      "num_times_exploited: 9046\n",
      "num times selected optimal bandit: 9335\n"
     ]
    },
    {
     "data": {
      "image/png": "[encoded data removed]",
      "text/plain": [
       "<Figure size 640x480 with 1 Axes>"
      ]
     },
     "metadata": {},
     "output_type": "display_data"
    }
   ],
   "source": [
    "experiment()"
   ]
  },
  {
   "cell_type": "code",
   "execution_count": null,
   "id": "36e7962d-570a-4a88-b7b8-b1f53d954835",
   "metadata": {},
   "outputs": [],
   "source": []
  },
  {
   "cell_type": "code",
   "execution_count": 34,
   "id": "97009443-8313-4394-a8f8-bf68cc2c7a48",
   "metadata": {},
   "outputs": [
    {
     "name": "stdout",
     "output_type": "stream",
     "text": [
      "4342296856\n"
     ]
    }
   ],
   "source": [
    "t = True\n",
    "print(id(t))"
   ]
  },
  {
   "cell_type": "code",
   "execution_count": 35,
   "id": "c80a83fc-712c-4fb3-9ffa-e94040b6f3e2",
   "metadata": {},
   "outputs": [
    {
     "name": "stdout",
     "output_type": "stream",
     "text": [
      "4342296856\n"
     ]
    }
   ],
   "source": [
    "t2 = True\n",
    "print(id(t2))"
   ]
  },
  {
   "cell_type": "code",
   "execution_count": null,
   "id": "0a28ae13-cbfe-4499-92ce-074ed42bfbe1",
   "metadata": {},
   "outputs": [],
   "source": []
  },
  {
   "cell_type": "code",
   "execution_count": 37,
   "id": "f3ab1341-a017-43de-ac55-ea401ec87689",
   "metadata": {},
   "outputs": [
    {
     "data": {
      "text/plain": [
       "True"
      ]
     },
     "execution_count": 37,
     "metadata": {},
     "output_type": "execute_result"
    }
   ],
   "source": [
    "t == t2"
   ]
  },
  {
   "cell_type": "code",
   "execution_count": null,
   "id": "8966aa34-1fe2-4f34-abb7-94036fd6ec5d",
   "metadata": {},
   "outputs": [],
   "source": []
  },
  {
   "cell_type": "code",
   "execution_count": 48,
   "id": "de572a92-721d-49a6-b778-60834ee797f5",
   "metadata": {},
   "outputs": [
    {
     "data": {
      "text/plain": [
       "True"
      ]
     },
     "execution_count": 48,
     "metadata": {},
     "output_type": "execute_result"
    }
   ],
   "source": [
    "t is t2"
   ]
  },
  {
   "cell_type": "code",
   "execution_count": 49,
   "id": "872dc30a-53e9-4e18-88d9-462bea64dcf4",
   "metadata": {},
   "outputs": [
    {
     "name": "stdout",
     "output_type": "stream",
     "text": [
      "optimal j: 2\n",
      "mean estimate: 0.25\n",
      "mean estimate: 0.4\n",
      "mean estimate: 0.7529776799119181\n",
      "total reward earned: 7526.0\n",
      "overall win rate: 0.7526\n",
      "num_times_explored: 12\n",
      "num_times_exploited: 9988\n",
      "num times selected optimal bandit: 9991\n"
     ]
    },
    {
     "data": {
      "image/png": "[encoded data removed]",
      "text/plain": [
       "<Figure size 640x480 with 1 Axes>"
      ]
     },
     "metadata": {},
     "output_type": "display_data"
    }
   ],
   "source": [
    "experiment(epsilon)"
   ]
  },
  {
   "cell_type": "code",
   "execution_count": null,
   "id": "8d050f7f-d342-4bcf-ac30-b6bac6d1b8f1",
   "metadata": {},
   "outputs": [],
   "source": []
  }
 ],
 "metadata": {
  "kernelspec": {
   "display_name": "Python 3 (ipykernel)",
   "language": "python",
   "name": "python3"
  },
  "language_info": {
   "codemirror_mode": {
    "name": "ipython",
    "version": 3
   },
   "file_extension": ".py",
   "mimetype": "text/x-python",
   "name": "python",
   "nbconvert_exporter": "python",
   "pygments_lexer": "ipython3",
   "version": "3.13.2"
  }
 },
 "nbformat": 4,
 "nbformat_minor": 5
}
