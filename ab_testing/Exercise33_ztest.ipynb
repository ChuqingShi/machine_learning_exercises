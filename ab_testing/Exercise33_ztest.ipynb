{
 "cells": [
  {
   "cell_type": "code",
   "execution_count": 1,
   "id": "15beb724-1d5d-4c54-935b-aaea834ae42b",
   "metadata": {},
   "outputs": [
    {
     "name": "stdout",
     "output_type": "stream",
     "text": [
      "Package                   Version\n",
      "------------------------- --------------\n",
      "anyio                     4.8.0\n",
      "appnope                   0.1.4\n",
      "argon2-cffi               23.1.0\n",
      "argon2-cffi-bindings      21.2.0\n",
      "arrow                     1.3.0\n",
      "asttokens                 3.0.0\n",
      "async-lru                 2.0.4\n",
      "attrs                     25.1.0\n",
      "babel                     2.17.0\n",
      "beautifulsoup4            4.13.3\n",
      "bleach                    6.2.0\n",
      "certifi                   2025.1.31\n",
      "cffi                      1.17.1\n",
      "charset-normalizer        3.4.1\n",
      "comm                      0.2.2\n",
      "contourpy                 1.3.1\n",
      "cycler                    0.12.1\n",
      "debugpy                   1.8.12\n",
      "decorator                 5.1.1\n",
      "defusedxml                0.7.1\n",
      "executing                 2.2.0\n",
      "fastjsonschema            2.21.1\n",
      "fonttools                 4.56.0\n",
      "fqdn                      1.5.1\n",
      "h11                       0.14.0\n",
      "httpcore                  1.0.7\n",
      "httpx                     0.28.1\n",
      "idna                      3.10\n",
      "ipykernel                 6.29.5\n",
      "ipython                   8.32.0\n",
      "isoduration               20.11.0\n",
      "jedi                      0.19.2\n",
      "Jinja2                    3.1.5\n",
      "json5                     0.10.0\n",
      "jsonpointer               3.0.0\n",
      "jsonschema                4.23.0\n",
      "jsonschema-specifications 2024.10.1\n",
      "jupyter_client            8.6.3\n",
      "jupyter_core              5.7.2\n",
      "jupyter-events            0.12.0\n",
      "jupyter-lsp               2.2.5\n",
      "jupyter_server            2.15.0\n",
      "jupyter_server_terminals  0.5.3\n",
      "jupyterlab                4.3.5\n",
      "jupyterlab_pygments       0.3.0\n",
      "jupyterlab_server         2.27.3\n",
      "kiwisolver                1.4.8\n",
      "MarkupSafe                3.0.2\n",
      "matplotlib                3.10.0\n",
      "matplotlib-inline         0.1.7\n",
      "mistune                   3.1.1\n",
      "nbclient                  0.10.2\n",
      "nbconvert                 7.16.6\n",
      "nbformat                  5.10.4\n",
      "nest-asyncio              1.6.0\n",
      "notebook                  7.3.2\n",
      "notebook_shim             0.2.4\n",
      "numpy                     2.2.3\n",
      "overrides                 7.7.0\n",
      "packaging                 24.2\n",
      "pandas                    2.2.3\n",
      "pandocfilters             1.5.1\n",
      "parso                     0.8.4\n",
      "pexpect                   4.9.0\n",
      "pillow                    11.1.0\n",
      "pip                       25.0.1\n",
      "platformdirs              4.3.6\n",
      "prometheus_client         0.21.1\n",
      "prompt_toolkit            3.0.50\n",
      "psutil                    7.0.0\n",
      "ptyprocess                0.7.0\n",
      "pure_eval                 0.2.3\n",
      "pycparser                 2.22\n",
      "Pygments                  2.19.1\n",
      "pyparsing                 3.2.1\n",
      "python-dateutil           2.9.0.post0\n",
      "python-json-logger        3.2.1\n",
      "pytz                      2025.1\n",
      "PyYAML                    6.0.2\n",
      "pyzmq                     26.2.1\n",
      "referencing               0.36.2\n",
      "requests                  2.32.3\n",
      "rfc3339-validator         0.1.4\n",
      "rfc3986-validator         0.1.1\n",
      "rpds-py                   0.22.3\n",
      "scipy                     1.15.1\n",
      "Send2Trash                1.8.3\n",
      "setuptools                75.8.0\n",
      "six                       1.17.0\n",
      "sniffio                   1.3.1\n",
      "soupsieve                 2.6\n",
      "stack-data                0.6.3\n",
      "terminado                 0.18.1\n",
      "tinycss2                  1.4.0\n",
      "tornado                   6.4.2\n",
      "traitlets                 5.14.3\n",
      "types-python-dateutil     2.9.0.20241206\n",
      "typing_extensions         4.12.2\n",
      "tzdata                    2025.1\n",
      "uri-template              1.3.0\n",
      "urllib3                   2.3.0\n",
      "wcwidth                   0.2.13\n",
      "webcolors                 24.11.1\n",
      "webencodings              0.5.1\n",
      "websocket-client          1.8.0\n",
      "Note: you may need to restart the kernel to use updated packages.\n"
     ]
    }
   ],
   "source": [
    "pip list"
   ]
  },
  {
   "cell_type": "code",
   "execution_count": 2,
   "id": "a45da6cb-67a7-4ce4-9554-1927b5fb63ee",
   "metadata": {},
   "outputs": [
    {
     "name": "stdout",
     "output_type": "stream",
     "text": [
      "\u001b[33mWARNING: Package(s) not found: statsmodels\u001b[0m\u001b[33m\n",
      "Note: you may need to restart the kernel to use updated packages.\n"
     ]
    }
   ],
   "source": [
    "pip show statsmodels"
   ]
  },
  {
   "cell_type": "code",
   "execution_count": 6,
   "id": "519ea673-a6f8-4169-8351-f9f0657cab52",
   "metadata": {},
   "outputs": [
    {
     "name": "stdout",
     "output_type": "stream",
     "text": [
      "Collecting statsmodels\n",
      "  Downloading statsmodels-0.14.4-cp313-cp313-macosx_11_0_arm64.whl.metadata (9.2 kB)\n",
      "Requirement already satisfied: numpy<3,>=1.22.3 in ./myenv/lib/python3.13/site-packages (from statsmodels) (2.2.3)\n",
      "Requirement already satisfied: scipy!=1.9.2,>=1.8 in ./myenv/lib/python3.13/site-packages (from statsmodels) (1.15.1)\n",
      "Requirement already satisfied: pandas!=2.1.0,>=1.4 in ./myenv/lib/python3.13/site-packages (from statsmodels) (2.2.3)\n",
      "Collecting patsy>=0.5.6 (from statsmodels)\n",
      "  Downloading patsy-1.0.1-py2.py3-none-any.whl.metadata (3.3 kB)\n",
      "Requirement already satisfied: packaging>=21.3 in ./myenv/lib/python3.13/site-packages (from statsmodels) (24.2)\n",
      "Requirement already satisfied: python-dateutil>=2.8.2 in ./myenv/lib/python3.13/site-packages (from pandas!=2.1.0,>=1.4->statsmodels) (2.9.0.post0)\n",
      "Requirement already satisfied: pytz>=2020.1 in ./myenv/lib/python3.13/site-packages (from pandas!=2.1.0,>=1.4->statsmodels) (2025.1)\n",
      "Requirement already satisfied: tzdata>=2022.7 in ./myenv/lib/python3.13/site-packages (from pandas!=2.1.0,>=1.4->statsmodels) (2025.1)\n",
      "Requirement already satisfied: six>=1.5 in ./myenv/lib/python3.13/site-packages (from python-dateutil>=2.8.2->pandas!=2.1.0,>=1.4->statsmodels) (1.17.0)\n",
      "Downloading statsmodels-0.14.4-cp313-cp313-macosx_11_0_arm64.whl (9.9 MB)\n",
      "\u001b[2K   \u001b[38;2;114;156;31m━━━━━━━━━━━━━━━━━━━━━━━━━━━━━━━━━━━━━━━━\u001b[0m \u001b[32m9.9/9.9 MB\u001b[0m \u001b[31m18.9 MB/s\u001b[0m eta \u001b[36m0:00:00\u001b[0m31m9.2 MB/s\u001b[0m eta \u001b[36m0:00:01\u001b[0m\n",
      "\u001b[?25hDownloading patsy-1.0.1-py2.py3-none-any.whl (232 kB)\n",
      "Installing collected packages: patsy, statsmodels\n",
      "Successfully installed patsy-1.0.1 statsmodels-0.14.4\n",
      "Note: you may need to restart the kernel to use updated packages.\n"
     ]
    }
   ],
   "source": [
    "pip install statsmodels"
   ]
  },
  {
   "cell_type": "code",
   "execution_count": 7,
   "id": "0ef83659-f4c2-4aa7-8db7-06e0dfa48e17",
   "metadata": {},
   "outputs": [
    {
     "name": "stdout",
     "output_type": "stream",
     "text": [
      "Name: statsmodels\n",
      "Version: 0.14.4\n",
      "Summary: Statistical computations and models for Python\n",
      "Home-page: https://www.statsmodels.org/\n",
      "Author: \n",
      "Author-email: \n",
      "License: BSD License\n",
      "Location: /Users/chuqing/Desktop/LazyProgrammer/machine_learning_exercises/ab_testing/myenv/lib/python3.13/site-packages\n",
      "Requires: numpy, packaging, pandas, patsy, scipy\n",
      "Required-by: \n",
      "Note: you may need to restart the kernel to use updated packages.\n"
     ]
    }
   ],
   "source": [
    "pip show statsmodels"
   ]
  },
  {
   "cell_type": "code",
   "execution_count": 8,
   "id": "bca0d76d-b56d-4d48-95c9-6f3aef11cfa9",
   "metadata": {},
   "outputs": [
    {
     "name": "stdout",
     "output_type": "stream",
     "text": [
      "Note: you may need to restart the kernel to use updated packages.\n"
     ]
    }
   ],
   "source": [
    "pip freeze > requirements.txt"
   ]
  },
  {
   "cell_type": "code",
   "execution_count": 1,
   "id": "726f5e93-2a56-42cc-8a05-0d21ac5fb83a",
   "metadata": {},
   "outputs": [],
   "source": [
    "import numpy as np\n",
    "from scipy.stats import norm\n",
    "from statsmodels.stats.weightstats import ztest"
   ]
  },
  {
   "cell_type": "code",
   "execution_count": 10,
   "id": "5d54ff7c-b8cb-4fc3-ae95-bcb2d41577e5",
   "metadata": {},
   "outputs": [
    {
     "name": "stdout",
     "output_type": "stream",
     "text": [
      "Help on function ztest in module statsmodels.stats.weightstats:\n",
      "\n",
      "ztest(x1, x2=None, value=0, alternative='two-sided', usevar='pooled', ddof=1.0)\n",
      "    test for mean based on normal distribution, one or two samples\n",
      "\n",
      "    In the case of two samples, the samples are assumed to be independent.\n",
      "\n",
      "    Parameters\n",
      "    ----------\n",
      "    x1 : array_like, 1-D or 2-D\n",
      "        first of the two independent samples\n",
      "    x2 : array_like, 1-D or 2-D\n",
      "        second of the two independent samples\n",
      "    value : float\n",
      "        In the one sample case, value is the mean of x1 under the Null\n",
      "        hypothesis.\n",
      "        In the two sample case, value is the difference between mean of x1 and\n",
      "        mean of x2 under the Null hypothesis. The test statistic is\n",
      "        `x1_mean - x2_mean - value`.\n",
      "    alternative : str\n",
      "        The alternative hypothesis, H1, has to be one of the following\n",
      "\n",
      "           'two-sided': H1: difference in means not equal to value (default)\n",
      "           'larger' :   H1: difference in means larger than value\n",
      "           'smaller' :  H1: difference in means smaller than value\n",
      "\n",
      "    usevar : str, 'pooled' or 'unequal'\n",
      "        If ``pooled``, then the standard deviation of the samples is assumed to be\n",
      "        the same. If ``unequal``, then the standard deviation of the sample is\n",
      "        assumed to be different.\n",
      "    ddof : int\n",
      "        Degrees of freedom use in the calculation of the variance of the mean\n",
      "        estimate. In the case of comparing means this is one, however it can\n",
      "        be adjusted for testing other statistics (proportion, correlation)\n",
      "\n",
      "    Returns\n",
      "    -------\n",
      "    tstat : float\n",
      "        test statistic\n",
      "    pvalue : float\n",
      "        pvalue of the t-test\n",
      "\n",
      "    Notes\n",
      "    -----\n",
      "    usevar can be pooled or unequal in two sample case\n",
      "\n"
     ]
    }
   ],
   "source": [
    "help(ztest)"
   ]
  },
  {
   "cell_type": "code",
   "execution_count": 2,
   "id": "0a885d19-a777-432a-8e14-e57261211b2b",
   "metadata": {},
   "outputs": [],
   "source": [
    "np.random.seed(0)"
   ]
  },
  {
   "cell_type": "code",
   "execution_count": 3,
   "id": "a20344aa-6a1b-4097-9f81-6a3958614371",
   "metadata": {},
   "outputs": [],
   "source": [
    "# one-sample test\n",
    "N = 100\n",
    "mu = 0.2\n",
    "sigma = 1\n",
    "x = np.random.randn(N) * sigma + mu"
   ]
  },
  {
   "cell_type": "code",
   "execution_count": 4,
   "id": "78320784-77c9-43cd-9808-c00a5f8489a4",
   "metadata": {},
   "outputs": [
    {
     "data": {
      "text/plain": [
       "(np.float64(2.5648404153513686), np.float64(0.010322326848815837))"
      ]
     },
     "execution_count": 4,
     "metadata": {},
     "output_type": "execute_result"
    }
   ],
   "source": [
    "# two-sided z-test\n",
    "ztest(x) # default compare to 0"
   ]
  },
  {
   "cell_type": "code",
   "execution_count": 5,
   "id": "59760730-b57b-449f-9c2a-fb02daa0c348",
   "metadata": {},
   "outputs": [
    {
     "data": {
      "text/plain": [
       "(np.float64(2.564840415351368), np.float64(0.010322326848815847))"
      ]
     },
     "execution_count": 5,
     "metadata": {},
     "output_type": "execute_result"
    }
   ],
   "source": [
    "# two-sided z-test\n",
    "mu_hat = x.mean()\n",
    "sigma_hat = x.std(ddof=1)\n",
    "z = mu_hat / (sigma_hat / np.sqrt(N))\n",
    "# p_right = 1 - norm.cdf(np.abs(z)) #cdf not ppf \n",
    "p_right = norm.sf(np.abs(z)) #cdf not ppf \n",
    "p_left = norm.cdf(-np.abs(z)) # use np.abs not the default abs for abs elementwisely\n",
    "p = p_left + p_right\n",
    "z, p"
   ]
  },
  {
   "cell_type": "code",
   "execution_count": 6,
   "id": "e0731791-24d5-4845-9e01-76ddf5654de0",
   "metadata": {},
   "outputs": [
    {
     "data": {
      "text/plain": [
       "(np.float64(2.5648404153513686), np.float64(0.005161163424407918))"
      ]
     },
     "execution_count": 6,
     "metadata": {},
     "output_type": "execute_result"
    }
   ],
   "source": [
    "# one-sided z-test\n",
    "ztest(x, alternative='larger')"
   ]
  },
  {
   "cell_type": "code",
   "execution_count": 7,
   "id": "de7b3d76-2871-4e3f-9131-1aef9ff67061",
   "metadata": {},
   "outputs": [
    {
     "data": {
      "text/plain": [
       "(np.float64(2.564840415351368), np.float64(0.005161163424407924))"
      ]
     },
     "execution_count": 7,
     "metadata": {},
     "output_type": "execute_result"
    }
   ],
   "source": [
    "# one-sided z-test\n",
    "mu_hat = x.mean()\n",
    "sigma_hat = x.std(ddof=1)\n",
    "z = mu_hat / (sigma_hat / np.sqrt(N))\n",
    "p = norm.sf(z) #no need for abs\n",
    "z, p"
   ]
  },
  {
   "cell_type": "code",
   "execution_count": 8,
   "id": "e68e69bc-f5da-40fb-8a03-72aa81d5da1b",
   "metadata": {},
   "outputs": [
    {
     "data": {
      "text/plain": [
       "(np.float64(0.5904283402851699), np.float64(0.5549035151647227))"
      ]
     },
     "execution_count": 8,
     "metadata": {},
     "output_type": "execute_result"
    }
   ],
   "source": [
    "# null under a defferent reference value\n",
    "mu0 = 0.2\n",
    "ztest(x, value=mu0)"
   ]
  },
  {
   "cell_type": "code",
   "execution_count": 9,
   "id": "ceb389a4-6cd9-4d1a-bcf2-7cb0b5ae4f8c",
   "metadata": {},
   "outputs": [
    {
     "data": {
      "text/plain": [
       "(np.float64(0.5904283402851698), np.float64(0.5549035151647228))"
      ]
     },
     "execution_count": 9,
     "metadata": {},
     "output_type": "execute_result"
    }
   ],
   "source": [
    "# null under a defferent reference value\n",
    "mu_hat = x.mean()\n",
    "sigma_hat = x.std(ddof=1)\n",
    "z = (mu_hat - mu0) / (sigma_hat / np.sqrt(N))\n",
    "# p_right = 1 - norm.cdf(np.abs(z)) #cdf not ppf \n",
    "p_right = norm.sf(np.abs(z)) #cdf not ppf \n",
    "p_left = norm.cdf(-np.abs(z)) # use np.abs not the default abs for abs elementwisely\n",
    "p = p_left + p_right\n",
    "z, p"
   ]
  },
  {
   "cell_type": "code",
   "execution_count": 10,
   "id": "c6261148-4c7f-45be-a7df-1e7c22d51e8e",
   "metadata": {},
   "outputs": [
    {
     "data": {
      "text/plain": [
       "np.float64(0.0505)"
      ]
     },
     "execution_count": 10,
     "metadata": {},
     "output_type": "execute_result"
    }
   ],
   "source": [
    "#check significane threshold\n",
    "def experiment(): #check false positive\n",
    "    mu0 = 0.2\n",
    "    x = norm.rvs(loc=mu, scale=sigma, size=N)\n",
    "    _, p = ztest(x, value=mu0)\n",
    "    return p<0.05\n",
    "\n",
    "def multi_experiments(M): #check false positive rate\n",
    "    results = [experiment() for _ in range(M)] \n",
    "    return np.mean(results) \n",
    "\n",
    "multi_experiments(10000)"
   ]
  },
  {
   "cell_type": "code",
   "execution_count": 11,
   "id": "3508dee1-6d61-43cd-a779-a503fe684df8",
   "metadata": {},
   "outputs": [],
   "source": [
    "# two-sample test\n",
    "N0 = 100\n",
    "mu0 = 0.2\n",
    "sigma0 = 1\n",
    "x0 = np.random.randn(N0) * sigma0 + mu0\n",
    "\n",
    "N1 = 100\n",
    "mu1 = 0.5\n",
    "sigma1 = 1\n",
    "x1 = np.random.randn(N1) * sigma1 + mu1"
   ]
  },
  {
   "cell_type": "code",
   "execution_count": 12,
   "id": "acfe591f-35d6-4a6c-a1d6-ccf42129b1be",
   "metadata": {},
   "outputs": [
    {
     "data": {
      "text/plain": [
       "(np.float64(-4.203806302978261), np.float64(2.6246356365038274e-05))"
      ]
     },
     "execution_count": 12,
     "metadata": {},
     "output_type": "execute_result"
    }
   ],
   "source": [
    "#two-sided test\n",
    "ztest(x0, x1)"
   ]
  },
  {
   "cell_type": "code",
   "execution_count": 13,
   "id": "85316738-6a4a-4b1c-b293-595c60683926",
   "metadata": {},
   "outputs": [
    {
     "data": {
      "text/plain": [
       "(np.float64(-4.203806302978261), np.float64(2.6246356365038274e-05))"
      ]
     },
     "execution_count": 13,
     "metadata": {},
     "output_type": "execute_result"
    }
   ],
   "source": [
    "#two-sided test\n",
    "mu_hat0 = x0.mean()\n",
    "mu_hat1 = x1.mean()\n",
    "dmu_hat = mu_hat0 - mu_hat1\n",
    "s2_hat0 = x0.var(ddof=1)\n",
    "s2_hat1 = x1.var(ddof=1)\n",
    "s_hat = np.sqrt(s2_hat0 / N0 + s2_hat1 / N1) #s_hat not s2_hat\n",
    "z = dmu_hat / s_hat\n",
    "p_left = norm.cdf(-np.abs(z))\n",
    "p_right = norm.sf(np.abs(z))\n",
    "p = p_left + p_right\n",
    "z, p"
   ]
  },
  {
   "cell_type": "code",
   "execution_count": 14,
   "id": "5a82392b-cb5c-4c14-86c6-7256416c23c7",
   "metadata": {},
   "outputs": [
    {
     "data": {
      "text/plain": [
       "(np.float64(-4.203806302978261), np.float64(1.3123178182519137e-05))"
      ]
     },
     "execution_count": 14,
     "metadata": {},
     "output_type": "execute_result"
    }
   ],
   "source": [
    "# one-sided test\n",
    "ztest(x0, x1, alternative = 'smaller')"
   ]
  },
  {
   "cell_type": "code",
   "execution_count": 19,
   "id": "db2ef867-e5f9-4e31-ac8c-4f593d8e4010",
   "metadata": {
    "scrolled": true
   },
   "outputs": [
    {
     "name": "stdout",
     "output_type": "stream",
     "text": [
      "0.0539\n"
     ]
    }
   ],
   "source": [
    "# show false positive rate at 5% significance level\n",
    "num_tests = 10000\n",
    "results = np.zeros(num_tests)\n",
    "for i in range(num_tests): \n",
    "    x1 = np.random.randn(100)\n",
    "    x2 = np.random.randn(100)\n",
    "    z, p = ztest(x1, x2) #H_0 is true\n",
    "    results[i] = (p<0.05) #false positive\n",
    "    # not need to end for\n",
    "print(results.mean())"
   ]
  },
  {
   "cell_type": "code",
   "execution_count": 15,
   "id": "0eb46c72-b4dd-4769-938b-bfbb513cf59f",
   "metadata": {},
   "outputs": [
    {
     "name": "stdout",
     "output_type": "stream",
     "text": [
      "0.0524\n"
     ]
    }
   ],
   "source": [
    "# show that false positive occurs 5% of the time\n",
    "num_tests = 10000\n",
    "results = np.zeros(num_tests)\n",
    "for i in range(num_tests): \n",
    "    x1 = np.random.randn(100)\n",
    "    x2 = np.random.randn(100)\n",
    "    z, p = ztest(x1, x2, alternative='smaller') #H_0 is true\n",
    "    results[i] = (p<0.05) #false positive\n",
    "print(results.mean())"
   ]
  },
  {
   "cell_type": "code",
   "execution_count": 67,
   "id": "788cee54-8f52-4c55-b5e7-0cb3adc5cb4b",
   "metadata": {},
   "outputs": [
    {
     "data": {
      "text/plain": [
       "np.float64(1.644853626951472)"
      ]
     },
     "execution_count": 67,
     "metadata": {},
     "output_type": "execute_result"
    }
   ],
   "source": [
    "norm.ppf(0.95)"
   ]
  },
  {
   "cell_type": "code",
   "execution_count": 20,
   "id": "9b4ed19a-0491-4c49-a0ff-15eea2317ec6",
   "metadata": {},
   "outputs": [
    {
     "name": "stdout",
     "output_type": "stream",
     "text": [
      "0.0519\n"
     ]
    }
   ],
   "source": [
    "# show false positive rate at 5% significance level\n",
    "num_tests = 10000\n",
    "results = np.zeros(num_tests)\n",
    "for i in range(num_tests): \n",
    "    x1 = np.random.randn(100)\n",
    "    x2 = np.random.randn(100)\n",
    "    z, p = ztest(x1, x2, alternative='smaller') #H_0 is true\n",
    "    results[i] = (p<0.05) #false positive\n",
    "    # not need to end for\n",
    "print(results.mean())"
   ]
  },
  {
   "cell_type": "code",
   "execution_count": 21,
   "id": "06ec89b7-bf06-4cc3-9e65-7692e3448d29",
   "metadata": {},
   "outputs": [
    {
     "name": "stdout",
     "output_type": "stream",
     "text": [
      "0.0093\n"
     ]
    }
   ],
   "source": [
    "# show false positive rate at 5% significance level\n",
    "num_tests = 10000\n",
    "results = np.zeros(num_tests)\n",
    "for i in range(num_tests): \n",
    "    x1 = np.random.randn(100)+0.1\n",
    "    x2 = np.random.randn(100)\n",
    "    z, p = ztest(x1, x2, alternative='smaller') #H_0 is true\n",
    "    results[i] = (p<0.05) #false positive\n",
    "    # not need to end for\n",
    "print(results.mean())"
   ]
  },
  {
   "cell_type": "code",
   "execution_count": 22,
   "id": "ed0d0e68-c568-40e7-bfaa-b0e5738bed2e",
   "metadata": {},
   "outputs": [
    {
     "name": "stdout",
     "output_type": "stream",
     "text": [
      "0.8278\n"
     ]
    }
   ],
   "source": [
    "# show false negative rate at 5% significance level\n",
    "num_tests = 10000\n",
    "results = np.zeros(num_tests)\n",
    "for i in range(num_tests): \n",
    "    x1 = np.random.randn(100)\n",
    "    x2 = np.random.randn(100)+0.1\n",
    "    z, p = ztest(x1, x2, alternative='smaller') #H_1 is true\n",
    "    results[i] = not (p<0.05) #false negative\n",
    "    # not need to end for\n",
    "print(results.mean())"
   ]
  }
 ],
 "metadata": {
  "kernelspec": {
   "display_name": "Python 3 (ipykernel)",
   "language": "python",
   "name": "python3"
  },
  "language_info": {
   "codemirror_mode": {
    "name": "ipython",
    "version": 3
   },
   "file_extension": ".py",
   "mimetype": "text/x-python",
   "name": "python",
   "nbconvert_exporter": "python",
   "pygments_lexer": "ipython3",
   "version": "3.13.2"
  }
 },
 "nbformat": 4,
 "nbformat_minor": 5
}
