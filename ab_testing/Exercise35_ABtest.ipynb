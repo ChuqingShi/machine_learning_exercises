{
 "cells": [
  {
   "cell_type": "code",
   "execution_count": 1,
   "id": "7785d5df-8c88-42ca-a504-96156d0df62a",
   "metadata": {},
   "outputs": [],
   "source": [
    "import pandas as pd\n",
    "from statsmodels.stats.weightstats import ztest"
   ]
  },
  {
   "cell_type": "code",
   "execution_count": 2,
   "id": "99d43f4c-c3dc-43e2-bc9b-7ecfeede798c",
   "metadata": {},
   "outputs": [],
   "source": [
    "df = pd.read_csv(\"advertisement_clicks.csv\")"
   ]
  },
  {
   "cell_type": "code",
   "execution_count": 3,
   "id": "9f86e7aa-6772-4745-ad44-559fedf7b277",
   "metadata": {},
   "outputs": [
    {
     "data": {
      "text/html": [
       "<div>\n",
       "<style scoped>\n",
       "    .dataframe tbody tr th:only-of-type {\n",
       "        vertical-align: middle;\n",
       "    }\n",
       "\n",
       "    .dataframe tbody tr th {\n",
       "        vertical-align: top;\n",
       "    }\n",
       "\n",
       "    .dataframe thead th {\n",
       "        text-align: right;\n",
       "    }\n",
       "</style>\n",
       "<table border=\"1\" class=\"dataframe\">\n",
       "  <thead>\n",
       "    <tr style=\"text-align: right;\">\n",
       "      <th></th>\n",
       "      <th>advertisement_id</th>\n",
       "      <th>action</th>\n",
       "    </tr>\n",
       "  </thead>\n",
       "  <tbody>\n",
       "    <tr>\n",
       "      <th>0</th>\n",
       "      <td>B</td>\n",
       "      <td>1</td>\n",
       "    </tr>\n",
       "    <tr>\n",
       "      <th>1</th>\n",
       "      <td>B</td>\n",
       "      <td>1</td>\n",
       "    </tr>\n",
       "    <tr>\n",
       "      <th>2</th>\n",
       "      <td>A</td>\n",
       "      <td>0</td>\n",
       "    </tr>\n",
       "    <tr>\n",
       "      <th>3</th>\n",
       "      <td>B</td>\n",
       "      <td>0</td>\n",
       "    </tr>\n",
       "    <tr>\n",
       "      <th>4</th>\n",
       "      <td>A</td>\n",
       "      <td>1</td>\n",
       "    </tr>\n",
       "  </tbody>\n",
       "</table>\n",
       "</div>"
      ],
      "text/plain": [
       "  advertisement_id  action\n",
       "0                B       1\n",
       "1                B       1\n",
       "2                A       0\n",
       "3                B       0\n",
       "4                A       1"
      ]
     },
     "execution_count": 3,
     "metadata": {},
     "output_type": "execute_result"
    }
   ],
   "source": [
    "df.head() #not df.show()!!!"
   ]
  },
  {
   "cell_type": "code",
   "execution_count": 4,
   "id": "db31c674-3685-4d0e-baae-4ce1a93f6eae",
   "metadata": {},
   "outputs": [],
   "source": [
    "xA = df[df['advertisement_id']=='A']['action'].dropna().to_numpy()\n",
    "xB = df[df['advertisement_id']=='B']['action'].dropna().to_numpy()"
   ]
  },
  {
   "cell_type": "code",
   "execution_count": 24,
   "id": "b98408d9-6a55-43f3-948e-46f37aace070",
   "metadata": {},
   "outputs": [
    {
     "data": {
      "text/plain": [
       "numpy.ndarray"
      ]
     },
     "execution_count": 24,
     "metadata": {},
     "output_type": "execute_result"
    }
   ],
   "source": [
    "type(xA)"
   ]
  },
  {
   "cell_type": "code",
   "execution_count": 25,
   "id": "6abfb6a5-7bc6-41d4-a60c-692d99c79aae",
   "metadata": {},
   "outputs": [
    {
     "data": {
      "text/plain": [
       "1000"
      ]
     },
     "execution_count": 25,
     "metadata": {},
     "output_type": "execute_result"
    }
   ],
   "source": [
    "len(xA)"
   ]
  },
  {
   "cell_type": "code",
   "execution_count": 26,
   "id": "e4013db0-1d60-4e83-b9ef-4b0543424c7d",
   "metadata": {},
   "outputs": [
    {
     "data": {
      "text/plain": [
       "1000"
      ]
     },
     "execution_count": 26,
     "metadata": {},
     "output_type": "execute_result"
    }
   ],
   "source": [
    "len(xB)"
   ]
  },
  {
   "cell_type": "code",
   "execution_count": 27,
   "id": "2721d2b8-48b4-4260-b7bd-634a4a06a550",
   "metadata": {},
   "outputs": [
    {
     "data": {
      "text/plain": [
       "(np.float64(-3.2211732138019786), np.float64(0.0012766696301529548))"
      ]
     },
     "execution_count": 27,
     "metadata": {},
     "output_type": "execute_result"
    }
   ],
   "source": [
    "ztest(xA,xB)"
   ]
  },
  {
   "cell_type": "markdown",
   "id": "e7579f37-b81b-43ac-a299-305ffb3348d4",
   "metadata": {},
   "source": [
    "## Conclusion: \n",
    "\n",
    "We reject the H_0 at the 5% significance level. There is sufficient evidence to suggest that A and B advertisements have different CTRs."
   ]
  },
  {
   "cell_type": "code",
   "execution_count": 28,
   "id": "7a48e1d8-442f-45ef-8ee4-321d169e3055",
   "metadata": {},
   "outputs": [
    {
     "data": {
      "text/plain": [
       "(np.float64(-3.2211732138019786), np.float64(0.0006383348150764774))"
      ]
     },
     "execution_count": 28,
     "metadata": {},
     "output_type": "execute_result"
    }
   ],
   "source": [
    "ztest(xA,xB,alternative='smaller')"
   ]
  },
  {
   "cell_type": "markdown",
   "id": "374077a9-2dde-45c6-990d-1ce50875add1",
   "metadata": {},
   "source": [
    "## Conclusion2:\n",
    "\n",
    "We reject the H_0 at the 5% significance level. There is sufficient evidence to suggest that CTR(A) is less than CTR(B). We are 95% confident that B advertisement is better."
   ]
  },
  {
   "cell_type": "code",
   "execution_count": 7,
   "id": "8698479c-91a1-4015-ab90-22da9eeea358",
   "metadata": {},
   "outputs": [
    {
     "data": {
      "text/plain": [
       "(np.float64(-3.2211732138019786), np.float64(0.0006383348150764774))"
      ]
     },
     "execution_count": 7,
     "metadata": {},
     "output_type": "execute_result"
    }
   ],
   "source": [
    "#manual one-sided ztest\n",
    "import numpy as np\n",
    "from scipy.stats import norm\n",
    "\n",
    "mu_hatA = xA.mean()\n",
    "mu_hatB = xB.mean()\n",
    "s2_hatA = xA.var(ddof=1)\n",
    "s2_hatB = xB.var(ddof=1)\n",
    "z = (mu_hatA - mu_hatB) / np.sqrt(s2_hatA / len(xA) + s2_hatB / len(xB))\n",
    "p = norm.cdf(z)\n",
    "z,p"
   ]
  },
  {
   "cell_type": "code",
   "execution_count": null,
   "id": "9090ada9-7edf-484c-a3f5-919a70d86708",
   "metadata": {},
   "outputs": [],
   "source": []
  }
 ],
 "metadata": {
  "kernelspec": {
   "display_name": "Python 3 (ipykernel)",
   "language": "python",
   "name": "python3"
  },
  "language_info": {
   "codemirror_mode": {
    "name": "ipython",
    "version": 3
   },
   "file_extension": ".py",
   "mimetype": "text/x-python",
   "name": "python",
   "nbconvert_exporter": "python",
   "pygments_lexer": "ipython3",
   "version": "3.13.2"
  }
 },
 "nbformat": 4,
 "nbformat_minor": 5
}
