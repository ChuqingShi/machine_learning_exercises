{
 "cells": [
  {
   "cell_type": "code",
   "execution_count": 15,
   "id": "8fe6cbf1-7816-4cde-86e6-895b77b9132c",
   "metadata": {},
   "outputs": [],
   "source": [
    "import numpy as np\n",
    "import matplotlib.pyplot as plt\n",
    "from scipy.stats import norm"
   ]
  },
  {
   "cell_type": "code",
   "execution_count": 77,
   "id": "65b05ba4-05da-47e5-a709-5c8d09784cb8",
   "metadata": {},
   "outputs": [],
   "source": [
    "np.random.seed(0) #run this before generating random numbers to maintain consistent outputs, and rerun after restarting the kernel"
   ]
  },
  {
   "cell_type": "code",
   "execution_count": 23,
   "id": "67896d6b-9e92-4f02-a388-e780e007fbc0",
   "metadata": {},
   "outputs": [],
   "source": [
    "mu = 170\n",
    "sd = 7"
   ]
  },
  {
   "cell_type": "code",
   "execution_count": 75,
   "id": "669becfc-813b-4110-bcb4-aba7601a834c",
   "metadata": {},
   "outputs": [
    {
     "data": {
      "text/plain": [
       "array([182.34836642, 172.80110046, 176.85116589, 185.68625239,\n",
       "       183.07290593, 163.15905484, 176.65061892, 168.94049954,\n",
       "       169.27746804, 172.87418951, 171.008305  , 180.17991455,\n",
       "       175.32726408, 170.85172512, 173.10704263, 172.33572029,\n",
       "       180.45855351, 168.56389215, 172.19147391, 164.02132982,\n",
       "       152.12907129, 174.57533017, 176.05105339, 164.80484486,\n",
       "       185.88828237, 159.81944028, 170.32030962, 168.68971305,\n",
       "       180.7294545 , 180.28551139, 171.08463198, 172.64713764,\n",
       "       163.78549977, 156.13442472, 167.56461495, 171.09444278,\n",
       "       178.61203477, 178.41665894, 167.28871228, 167.88388075,\n",
       "       162.66012924, 160.05987444, 158.05610867, 183.65542777,\n",
       "       166.43243473, 166.93347989, 161.23043248, 175.44243249,\n",
       "       158.70271507, 168.51081804, 163.73173407, 172.70831749,\n",
       "       166.42436404, 161.73557471, 169.8027244 , 172.99832309,\n",
       "       170.46562056, 172.11730328, 165.55974534, 167.46081184,\n",
       "       165.29277687, 167.48312787, 164.30797603, 157.91602178,\n",
       "       171.241983  , 167.18753345, 158.58861157, 173.23947579,\n",
       "       163.64891145, 170.36361777, 175.10363394, 170.90288038,\n",
       "       177.97580479, 161.35621926, 172.81639149, 165.20632936,\n",
       "       163.90441996, 165.94805235, 167.81913228, 170.3931574 ,\n",
       "       161.84395111, 176.30578541, 173.25963708, 159.2462942 ,\n",
       "       180.41776536, 183.27122423, 178.251457  , 168.74052615,\n",
       "       162.50473165, 177.38116209, 167.17776137, 178.55711549,\n",
       "       171.45792485, 176.83647326, 172.49456478, 174.94601218,\n",
       "       170.07350015, 182.50109346, 170.88838465, 172.81392554])"
      ]
     },
     "execution_count": 75,
     "metadata": {},
     "output_type": "execute_result"
    }
   ],
   "source": [
    "# numpy: generate samples from our distribution\n",
    "x = mu+sd*np.random.randn(100)\n",
    "x # the same right after fixing the seed"
   ]
  },
  {
   "cell_type": "code",
   "execution_count": 76,
   "id": "9c3cd459-63cd-4e27-9d0b-1d3c1804895f",
   "metadata": {},
   "outputs": [
    {
     "data": {
      "text/plain": [
       "array([182.34836642, 172.80110046, 176.85116589, 185.68625239,\n",
       "       183.07290593, 163.15905484, 176.65061892, 168.94049954,\n",
       "       169.27746804, 172.87418951, 171.008305  , 180.17991455,\n",
       "       175.32726408, 170.85172512, 173.10704263, 172.33572029,\n",
       "       180.45855351, 168.56389215, 172.19147391, 164.02132982,\n",
       "       152.12907129, 174.57533017, 176.05105339, 164.80484486,\n",
       "       185.88828237, 159.81944028, 170.32030962, 168.68971305,\n",
       "       180.7294545 , 180.28551139, 171.08463198, 172.64713764,\n",
       "       163.78549977, 156.13442472, 167.56461495, 171.09444278,\n",
       "       178.61203477, 178.41665894, 167.28871228, 167.88388075,\n",
       "       162.66012924, 160.05987444, 158.05610867, 183.65542777,\n",
       "       166.43243473, 166.93347989, 161.23043248, 175.44243249,\n",
       "       158.70271507, 168.51081804, 163.73173407, 172.70831749,\n",
       "       166.42436404, 161.73557471, 169.8027244 , 172.99832309,\n",
       "       170.46562056, 172.11730328, 165.55974534, 167.46081184,\n",
       "       165.29277687, 167.48312787, 164.30797603, 157.91602178,\n",
       "       171.241983  , 167.18753345, 158.58861157, 173.23947579,\n",
       "       163.64891145, 170.36361777, 175.10363394, 170.90288038,\n",
       "       177.97580479, 161.35621926, 172.81639149, 165.20632936,\n",
       "       163.90441996, 165.94805235, 167.81913228, 170.3931574 ,\n",
       "       161.84395111, 176.30578541, 173.25963708, 159.2462942 ,\n",
       "       180.41776536, 183.27122423, 178.251457  , 168.74052615,\n",
       "       162.50473165, 177.38116209, 167.17776137, 178.55711549,\n",
       "       171.45792485, 176.83647326, 172.49456478, 174.94601218,\n",
       "       170.07350015, 182.50109346, 170.88838465, 172.81392554])"
      ]
     },
     "execution_count": 76,
     "metadata": {},
     "output_type": "execute_result"
    }
   ],
   "source": [
    "#scipy: generate samples from our distribution\n",
    "x = norm.rvs(loc=mu, scale=sd, size=100)\n",
    "x # the same right after fixing the seed"
   ]
  },
  {
   "cell_type": "code",
   "execution_count": 33,
   "id": "a92875d2-e674-47cf-8a2c-3a8b29f201f5",
   "metadata": {},
   "outputs": [
    {
     "data": {
      "text/plain": [
       "np.float64(170.41865610874137)"
      ]
     },
     "execution_count": 33,
     "metadata": {},
     "output_type": "execute_result"
    }
   ],
   "source": [
    "# MLE mean\n",
    "x.mean()"
   ]
  },
  {
   "cell_type": "code",
   "execution_count": 34,
   "id": "4294f646-bf1b-4372-b705-bcb890cc91eb",
   "metadata": {},
   "outputs": [
    {
     "data": {
      "text/plain": [
       "np.float64(49.77550434153163)"
      ]
     },
     "execution_count": 34,
     "metadata": {},
     "output_type": "execute_result"
    }
   ],
   "source": [
    "# MLE var\n",
    "x.var()"
   ]
  },
  {
   "cell_type": "code",
   "execution_count": 42,
   "id": "aef5e261-07de-4529-a55a-8c41243758bb",
   "metadata": {},
   "outputs": [
    {
     "data": {
      "text/plain": [
       "np.float64(49.77550434153163)"
      ]
     },
     "execution_count": 42,
     "metadata": {},
     "output_type": "execute_result"
    }
   ],
   "source": [
    "var1 = ((x-x.mean())**2).mean()\n",
    "var1"
   ]
  },
  {
   "cell_type": "code",
   "execution_count": 43,
   "id": "57a2a223-4a95-4305-b40e-b98d0a2997fa",
   "metadata": {},
   "outputs": [
    {
     "data": {
      "text/plain": [
       "np.float64(49.77550434153818)"
      ]
     },
     "execution_count": 43,
     "metadata": {},
     "output_type": "execute_result"
    }
   ],
   "source": [
    "var2 = (x**2).mean()-(x.mean())**2\n",
    "var2"
   ]
  },
  {
   "cell_type": "code",
   "execution_count": 44,
   "id": "05c773dd-a174-4849-a48c-6e5c01a8b77d",
   "metadata": {},
   "outputs": [
    {
     "data": {
      "text/plain": [
       "True"
      ]
     },
     "execution_count": 44,
     "metadata": {},
     "output_type": "execute_result"
    }
   ],
   "source": [
    "np.allclose(var1,var2)"
   ]
  },
  {
   "cell_type": "code",
   "execution_count": 45,
   "id": "37f8e393-4f76-41dd-9c2a-e6fd9ecd5494",
   "metadata": {},
   "outputs": [
    {
     "data": {
      "text/plain": [
       "np.float64(7.055175713016057)"
      ]
     },
     "execution_count": 45,
     "metadata": {},
     "output_type": "execute_result"
    }
   ],
   "source": [
    "# MLE std\n",
    "x.std()"
   ]
  },
  {
   "cell_type": "code",
   "execution_count": 47,
   "id": "f90256f2-0235-4cf1-b94e-b3a0e02e9712",
   "metadata": {},
   "outputs": [
    {
     "data": {
      "text/plain": [
       "np.float64(50.278287213668314)"
      ]
     },
     "execution_count": 47,
     "metadata": {},
     "output_type": "execute_result"
    }
   ],
   "source": [
    "# unbiased var\n",
    "x.var(ddof=1)"
   ]
  },
  {
   "cell_type": "code",
   "execution_count": 49,
   "id": "bd1d4ffa-6abb-422c-ac56-fb4ec2bfaea0",
   "metadata": {},
   "outputs": [
    {
     "data": {
      "text/plain": [
       "np.float64(50.278287213668314)"
      ]
     },
     "execution_count": 49,
     "metadata": {},
     "output_type": "execute_result"
    }
   ],
   "source": [
    "((x-x.mean())**2).sum()/(len(x)-1)"
   ]
  },
  {
   "cell_type": "code",
   "execution_count": 53,
   "id": "ad31f155-a2ad-41af-8676-f27a5efa59b4",
   "metadata": {},
   "outputs": [
    {
     "data": {
      "text/plain": [
       "np.float64(7.090718384879512)"
      ]
     },
     "execution_count": 53,
     "metadata": {},
     "output_type": "execute_result"
    }
   ],
   "source": [
    "# square root\n",
    "x.std(ddof=1)"
   ]
  },
  {
   "cell_type": "code",
   "execution_count": 55,
   "id": "6a356e4a-7fde-418e-84b9-8af0446262a6",
   "metadata": {},
   "outputs": [
    {
     "data": {
      "text/plain": [
       "np.float64(50.278287213668314)"
      ]
     },
     "execution_count": 55,
     "metadata": {},
     "output_type": "execute_result"
    }
   ],
   "source": [
    "x.std(ddof=1)**2"
   ]
  },
  {
   "cell_type": "code",
   "execution_count": 60,
   "id": "05f789e4-2a47-40e7-bb48-ddb3b55e106b",
   "metadata": {},
   "outputs": [
    {
     "data": {
      "text/plain": [
       "np.float64(181.5139753886603)"
      ]
     },
     "execution_count": 60,
     "metadata": {},
     "output_type": "execute_result"
    }
   ],
   "source": [
    "#1 at what height are you in the 95th percentile?\n",
    "norm.ppf(0.95, loc=mu, scale=sd)"
   ]
  },
  {
   "cell_type": "code",
   "execution_count": 61,
   "id": "4d827dff-b872-4135-9305-6c621ca8f9cd",
   "metadata": {},
   "outputs": [
    {
     "data": {
      "text/plain": [
       "np.float64(0.07656372550983476)"
      ]
     },
     "execution_count": 61,
     "metadata": {},
     "output_type": "execute_result"
    }
   ],
   "source": [
    "#2 you are 160cm tall, what percentile are you in?\n",
    "norm.cdf(160, loc=mu, scale=sd)"
   ]
  },
  {
   "cell_type": "code",
   "execution_count": 62,
   "id": "40312715-779d-4d1f-b936-9af897b0c7ff",
   "metadata": {},
   "outputs": [
    {
     "data": {
      "text/plain": [
       "np.float64(0.07656372550983481)"
      ]
     },
     "execution_count": 62,
     "metadata": {},
     "output_type": "execute_result"
    }
   ],
   "source": [
    "#3 you are 180cm tall, what is the probability that someone is taller than you?\n",
    "1 - norm.cdf(180, loc=mu, scale=sd)"
   ]
  },
  {
   "cell_type": "code",
   "execution_count": 63,
   "id": "526bfe34-8db4-4888-a18d-e2d6621ff984",
   "metadata": {},
   "outputs": [
    {
     "data": {
      "text/plain": [
       "np.float64(0.07656372550983476)"
      ]
     },
     "execution_count": 63,
     "metadata": {},
     "output_type": "execute_result"
    }
   ],
   "source": []
  }
 ],
 "metadata": {
  "kernelspec": {
   "display_name": "Python 3 (ipykernel)",
   "language": "python",
   "name": "python3"
  },
  "language_info": {
   "codemirror_mode": {
    "name": "ipython",
    "version": 3
   },
   "file_extension": ".py",
   "mimetype": "text/x-python",
   "name": "python",
   "nbconvert_exporter": "python",
   "pygments_lexer": "ipython3",
   "version": "3.13.2"
  }
 },
 "nbformat": 4,
 "nbformat_minor": 5
}
