{
 "cells": [
  {
   "cell_type": "code",
   "execution_count": 1,
   "id": "756e4470-af14-4870-8567-29fb2ee0f36d",
   "metadata": {},
   "outputs": [],
   "source": [
    "import numpy as np\n",
    "from scipy.stats import norm, t"
   ]
  },
  {
   "cell_type": "code",
   "execution_count": 2,
   "id": "ae84b7e4-ad12-4d0f-9b2c-e10a302ff029",
   "metadata": {},
   "outputs": [],
   "source": [
    "np.random.seed(1)"
   ]
  },
  {
   "cell_type": "code",
   "execution_count": 3,
   "id": "a10c36d5-a0d6-465c-b5ba-cac2577f2956",
   "metadata": {},
   "outputs": [],
   "source": [
    "N = 1000\n",
    "mu = 5\n",
    "sigma = 2"
   ]
  },
  {
   "cell_type": "code",
   "execution_count": 5,
   "id": "97e88b77-bec5-46e2-b5c0-eb86bd11990d",
   "metadata": {},
   "outputs": [],
   "source": [
    "X = norm.rvs(loc=mu, scale=sigma, size=N)"
   ]
  },
  {
   "cell_type": "code",
   "execution_count": 6,
   "id": "304c5373-5b23-402b-abf1-a31ea93e45c6",
   "metadata": {},
   "outputs": [
    {
     "name": "stdout",
     "output_type": "stream",
     "text": [
      "5.0546508867891555 4.926904581440876 5.182397192137435\n"
     ]
    }
   ],
   "source": [
    "# Z-confidence interval\n",
    "mu_hat = X.mean()\n",
    "sigma_hat = X.std(ddof=1)\n",
    "width = abs(norm.ppf(0.025)) * sigma_hat / np.sqrt(N)\n",
    "lower = mu_hat - width\n",
    "upper = mu_hat + width\n",
    "print(mu_hat, lower, upper)"
   ]
  },
  {
   "cell_type": "code",
   "execution_count": 7,
   "id": "6b63e90f-7b33-4eda-b7d4-c06fb56f64ae",
   "metadata": {},
   "outputs": [],
   "source": [
    "def z_ci(X, gamma):\n",
    "    mu_hat = np.mean(X)\n",
    "    sigma_hat = np.std(X, ddof=1)\n",
    "    z_left = norm.ppf((1 - gamma) / 2)\n",
    "    z_right = norm.ppf((1 + gamma) / 2)\n",
    "    lower = mu_hat + z_left * sigma_hat / np.sqrt(len(X))\n",
    "    upper = mu_hat + z_right * sigma_hat / np.sqrt(len(X))\n",
    "    return [lower, upper]"
   ]
  },
  {
   "cell_type": "code",
   "execution_count": 12,
   "id": "385b7452-64d4-498a-9c11-0dcf0a09db01",
   "metadata": {},
   "outputs": [
    {
     "data": {
      "text/plain": [
       "[np.float64(4.926904581440877), np.float64(5.182397192137434)]"
      ]
     },
     "execution_count": 12,
     "metadata": {},
     "output_type": "execute_result"
    }
   ],
   "source": [
    "z_ci(X, 0.95)"
   ]
  },
  {
   "cell_type": "code",
   "execution_count": 13,
   "id": "f3c14546-587a-444e-8e9e-1b496f954614",
   "metadata": {},
   "outputs": [
    {
     "name": "stdout",
     "output_type": "stream",
     "text": [
      "5.0546508867891555 4.926749622547114 5.182552151031197\n"
     ]
    }
   ],
   "source": [
    "# t-confidence interval\n",
    "mu_hat = np.mean(X)\n",
    "sigma_hat = np.std(X, ddof=1)\n",
    "t_left = t.ppf(0.025, df=N-1) #df!!!\n",
    "t_right = t.ppf(0.975, df=N-1)\n",
    "lower = mu_hat + t_left * sigma_hat / np.sqrt(N)\n",
    "upper = mu_hat + t_right * sigma_hat / np.sqrt(N)\n",
    "print(mu_hat, lower, upper)"
   ]
  },
  {
   "cell_type": "code",
   "execution_count": 14,
   "id": "80ee9b95-0260-41f0-8899-487871001992",
   "metadata": {},
   "outputs": [],
   "source": [
    "def t_ci(X, gamma):\n",
    "    mu_hat = np.mean(X)\n",
    "    sigma_hat = np.std(X, ddof=1)\n",
    "    t_left = t.ppf((1 - gamma) / 2, df=len(X)-1)\n",
    "    t_right = t.ppf((1 + gamma) / 2, df=len(X)-1)\n",
    "    lower = mu_hat + t_left * sigma_hat / np.sqrt(len(X))\n",
    "    upper = mu_hat + t_right * sigma_hat / np.sqrt(len(X))\n",
    "    return [lower, upper]"
   ]
  },
  {
   "cell_type": "code",
   "execution_count": 15,
   "id": "cb5d3d6d-b801-4502-b691-80140262137a",
   "metadata": {},
   "outputs": [
    {
     "data": {
      "text/plain": [
       "[np.float64(4.926749622547114), np.float64(5.182552151031197)]"
      ]
     },
     "execution_count": 15,
     "metadata": {},
     "output_type": "execute_result"
    }
   ],
   "source": [
    "t_ci(X, 0.95)"
   ]
  },
  {
   "cell_type": "code",
   "execution_count": 26,
   "id": "66a73677-bdbc-4b2d-b14e-78d6e29a1ac3",
   "metadata": {},
   "outputs": [],
   "source": [
    "# Interpretation of confidence interval\n",
    "# 95%CI should contain the true value 95% of the time\n",
    "def experiment():\n",
    "    x = np.random.randn(N) * sigma + mu\n",
    "    # print(x[0:10])\n",
    "\n",
    "    [lower, upper] = z_ci(x, 0.95)\n",
    "    # mu_hat = x.mean() # not X!!!\n",
    "    # sigma_hat = x.std(ddof=1)\n",
    "    # z_left = norm.ppf(0.025)\n",
    "    # z_right = norm.ppf(0.975)\n",
    "    # lower = mu_hat + z_left * sigma_hat / np.sqrt(N)\n",
    "    # upper = mu_hat + z_right * sigma_hat / np.sqrt(N)\n",
    "    # # print(mu_hat, lower, upper)\n",
    "\n",
    "    # # [lower, upper] = t_ci(x, 0.95)\n",
    "    # mu_hat = x.mean() # not X!!!\n",
    "    # sigma_hat = x.std(ddof=1)\n",
    "    # t_left = t.ppf(0.025, df=N-1)\n",
    "    # t_right = t.ppf(0.975, df=N-1)\n",
    "    # lower = mu_hat + t_left * sigma_hat / np.sqrt(N)\n",
    "    # upper = mu_hat + t_right * sigma_hat / np.sqrt(N)\n",
    "    # # print(mu_hat, lower, upper)\n",
    "    \n",
    "    return mu < upper and mu > lower # there is no && in python"
   ]
  },
  {
   "cell_type": "code",
   "execution_count": 24,
   "id": "1846f076-0118-4db5-8a9b-815964d77e70",
   "metadata": {},
   "outputs": [],
   "source": [
    "def multi_experiments(M):\n",
    "    results = [experiment() for _ in range(M)]\n",
    "    return np.mean(results) #results.mean() does not work since results is a list"
   ]
  },
  {
   "cell_type": "code",
   "execution_count": 27,
   "id": "422214f6-bda9-4fdf-b7d3-cbd56584c397",
   "metadata": {},
   "outputs": [
    {
     "data": {
      "text/plain": [
       "np.float64(0.9516)"
      ]
     },
     "execution_count": 27,
     "metadata": {},
     "output_type": "execute_result"
    }
   ],
   "source": [
    "multi_experiments(10000)"
   ]
  }
 ],
 "metadata": {
  "kernelspec": {
   "display_name": "Python 3 (ipykernel)",
   "language": "python",
   "name": "python3"
  },
  "language_info": {
   "codemirror_mode": {
    "name": "ipython",
    "version": 3
   },
   "file_extension": ".py",
   "mimetype": "text/x-python",
   "name": "python",
   "nbconvert_exporter": "python",
   "pygments_lexer": "ipython3",
   "version": "3.13.2"
  }
 },
 "nbformat": 4,
 "nbformat_minor": 5
}
