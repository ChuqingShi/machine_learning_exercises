{
 "cells": [
  {
   "cell_type": "code",
   "execution_count": 1,
   "id": "45b56743-5826-4f09-91d4-b60dbcf284b3",
   "metadata": {},
   "outputs": [],
   "source": [
    "import matplotlib.pyplot as plt\n",
    "import numpy as np"
   ]
  },
  {
   "cell_type": "code",
   "execution_count": 2,
   "id": "c50064c0-f1c4-4473-a422-0e41995a376c",
   "metadata": {},
   "outputs": [],
   "source": [
    "NUM_TRIALS = 10000\n",
    "BANDIT_PROBABILITIES = [0.2, 0.5, 0.75]"
   ]
  },
  {
   "cell_type": "code",
   "execution_count": 41,
   "id": "7b5c74fa-6aad-4e53-ae54-6fdd0e3af52f",
   "metadata": {},
   "outputs": [],
   "source": [
    "class Bandit:\n",
    "    def __init__(self, p):\n",
    "        # p: the win rate\n",
    "        self.p = p\n",
    "        self.p_estimate = 10\n",
    "        self.N = 1\n",
    "    \n",
    "    def pull(self):\n",
    "        # draw a 1 with probability p\n",
    "        return np.random.random() < self.p\n",
    "    \n",
    "    def update(self, x):\n",
    "        self.N = self.N + 1\n",
    "        self.p_estimate = self.p_estimate + (x - self.p_estimate) / self.N"
   ]
  },
  {
   "cell_type": "code",
   "execution_count": 46,
   "id": "d2b7f894-57c9-4b87-b156-17a48b05cf9f",
   "metadata": {},
   "outputs": [],
   "source": [
    "bandits = [Bandit(p) for p in BANDIT_PROBABILITIES]\n",
    "rewards = np.zeros(NUM_TRIALS)"
   ]
  },
  {
   "cell_type": "code",
   "execution_count": 47,
   "id": "f0d1a030-df1b-4585-800e-18d3343f55da",
   "metadata": {},
   "outputs": [],
   "source": [
    "for i in range(NUM_TRIALS):\n",
    "    # use optimistic initial values to select the next bandit\n",
    "    j = np.argmax([b.p_estimate for b in bandits])\n",
    "    \n",
    "    # pull the arm for the bandit with the largest sample\n",
    "    x = bandits[j].pull()\n",
    "    \n",
    "    # update rewards log\n",
    "    rewards[i] = x\n",
    "    \n",
    "    # update the distribution for the bandit whose arm we just pulled\n",
    "    bandits[j].update(x)"
   ]
  },
  {
   "cell_type": "code",
   "execution_count": 43,
   "id": "b6907493-5d10-4b47-9cf8-cf9bb02839ee",
   "metadata": {},
   "outputs": [
    {
     "name": "stdout",
     "output_type": "stream",
     "text": [
      "mean estimate: 0.7142857142857142\n",
      "mean estimate: 0.7317073170731707\n",
      "mean estimate: 0.7512020836115941\n"
     ]
    }
   ],
   "source": [
    "# print mean estimates for each bandit\n",
    "for b in bandits:\n",
    "    print(\"mean estimate:\", b.p_estimate)"
   ]
  },
  {
   "cell_type": "code",
   "execution_count": 50,
   "id": "9baa641f-0a63-41a8-b939-73b0f085457d",
   "metadata": {},
   "outputs": [
    {
     "name": "stdout",
     "output_type": "stream",
     "text": [
      "total reward earned: 7439.0\n",
      "overall win rate: 0.7439\n",
      "num times selected each bandit: [14, 50, 9936]\n"
     ]
    }
   ],
   "source": [
    "# print total reward\n",
    "print(\"total reward earned:\", rewards.sum())\n",
    "print(\"overall win rate:\", rewards.sum() / NUM_TRIALS)\n",
    "print(\"num times selected each bandit:\", [b.N-1 for b in bandits])"
   ]
  },
  {
   "cell_type": "code",
   "execution_count": 51,
   "id": "c9fe6137-ebb5-48d1-a61a-12f60113845d",
   "metadata": {},
   "outputs": [
    {
     "data": {
      "image/png": "[encoded data removed]",
      "text/plain": [
       "<Figure size 640x480 with 1 Axes>"
      ]
     },
     "metadata": {},
     "output_type": "display_data"
    }
   ],
   "source": [
    "# plot the results\n",
    "cumulative_rewards = np.cumsum(rewards)\n",
    "win_rates = cumulative_rewards / (np.arange(NUM_TRIALS) + 1)\n",
    "plt.ylim([0, 1])\n",
    "plt.xlim([1, NUM_TRIALS])\n",
    "plt.plot(win_rates)\n",
    "plt.plot(np.ones(NUM_TRIALS)*np.max(BANDIT_PROBABILITIES))\n",
    "plt.show()"
   ]
  },
  {
   "cell_type": "code",
   "execution_count": 28,
   "id": "3cb504c1-6acb-4c51-962c-52cf268d1881",
   "metadata": {},
   "outputs": [
    {
     "data": {
      "text/plain": [
       "array([1.        , 0.5       , 0.66666667, ..., 0.74534907, 0.74537454,\n",
       "       0.7453    ], shape=(10000,))"
      ]
     },
     "execution_count": 28,
     "metadata": {},
     "output_type": "execute_result"
    }
   ],
   "source": [
    "cumulative_rewards / (np.arange(NUM_TRIALS) + 1)"
   ]
  },
  {
   "cell_type": "code",
   "execution_count": 31,
   "id": "edbe56a2-db63-4b33-9cfa-8243a2ee8f53",
   "metadata": {},
   "outputs": [
    {
     "ename": "TypeError",
     "evalue": "unsupported operand type(s) for +: 'range' and 'int'",
     "output_type": "error",
     "traceback": [
      "\u001b[0;31m---------------------------------------------------------------------------\u001b[0m",
      "\u001b[0;31mTypeError\u001b[0m                                 Traceback (most recent call last)",
      "Cell \u001b[0;32mIn[31], line 1\u001b[0m\n\u001b[0;32m----> 1\u001b[0m \u001b[38;5;28mtype\u001b[39m(\u001b[38;5;28;43mrange\u001b[39;49m\u001b[43m(\u001b[49m\u001b[43mNUM_TRIALS\u001b[49m\u001b[43m)\u001b[49m\u001b[38;5;241;43m+\u001b[39;49m\u001b[38;5;241;43m1\u001b[39;49m)\n",
      "\u001b[0;31mTypeError\u001b[0m: unsupported operand type(s) for +: 'range' and 'int'"
     ]
    }
   ],
   "source": [
    "type(range(NUM_TRIALS)+1)"
   ]
  },
  {
   "cell_type": "code",
   "execution_count": null,
   "id": "be95b152-1c63-4ff2-b831-25871d447e6a",
   "metadata": {},
   "outputs": [],
   "source": []
  }
 ],
 "metadata": {
  "kernelspec": {
   "display_name": "Python 3 (ipykernel)",
   "language": "python",
   "name": "python3"
  },
  "language_info": {
   "codemirror_mode": {
    "name": "ipython",
    "version": 3
   },
   "file_extension": ".py",
   "mimetype": "text/x-python",
   "name": "python",
   "nbconvert_exporter": "python",
   "pygments_lexer": "ipython3",
   "version": "3.13.2"
  }
 },
 "nbformat": 4,
 "nbformat_minor": 5
}
